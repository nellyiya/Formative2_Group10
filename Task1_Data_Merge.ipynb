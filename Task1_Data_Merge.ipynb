{
 "cells": [
  {
   "cell_type": "markdown",
   "id": "2647f117",
   "metadata": {},
   "source": [
    "Importing library"
   ]
  },
  {
   "cell_type": "code",
   "execution_count": 1,
   "id": "51ada6a0",
   "metadata": {},
   "outputs": [],
   "source": [
    "import pandas as pd"
   ]
  },
  {
   "cell_type": "code",
   "execution_count": 2,
   "id": "11847354",
   "metadata": {},
   "outputs": [],
   "source": [
    "# Load social profiles data\n",
    "social_df = pd.read_csv('data/customer_social_profiles.csv')\n",
    "\n",
    "# Load transactions data\n",
    "transactions_df = pd.read_csv('data/customer_transactions.csv')\n"
   ]
  },
  {
   "cell_type": "code",
   "execution_count": 3,
   "id": "487ef665",
   "metadata": {},
   "outputs": [
    {
     "name": "stdout",
     "output_type": "stream",
     "text": [
      "Merged dataset shape: (219, 11)\n"
     ]
    },
    {
     "data": {
      "text/html": [
       "<div>\n",
       "<style scoped>\n",
       "    .dataframe tbody tr th:only-of-type {\n",
       "        vertical-align: middle;\n",
       "    }\n",
       "\n",
       "    .dataframe tbody tr th {\n",
       "        vertical-align: top;\n",
       "    }\n",
       "\n",
       "    .dataframe thead th {\n",
       "        text-align: right;\n",
       "    }\n",
       "</style>\n",
       "<table border=\"1\" class=\"dataframe\">\n",
       "  <thead>\n",
       "    <tr style=\"text-align: right;\">\n",
       "      <th></th>\n",
       "      <th>customer_id_new</th>\n",
       "      <th>social_media_platform</th>\n",
       "      <th>engagement_score</th>\n",
       "      <th>purchase_interest_score</th>\n",
       "      <th>review_sentiment</th>\n",
       "      <th>customer_id_legacy</th>\n",
       "      <th>transaction_id</th>\n",
       "      <th>purchase_amount</th>\n",
       "      <th>purchase_date</th>\n",
       "      <th>product_category</th>\n",
       "      <th>customer_rating</th>\n",
       "    </tr>\n",
       "  </thead>\n",
       "  <tbody>\n",
       "    <tr>\n",
       "      <th>0</th>\n",
       "      <td>190</td>\n",
       "      <td>Twitter</td>\n",
       "      <td>82</td>\n",
       "      <td>4.8</td>\n",
       "      <td>Neutral</td>\n",
       "      <td>190</td>\n",
       "      <td>1031</td>\n",
       "      <td>333</td>\n",
       "      <td>2024-01-31</td>\n",
       "      <td>Groceries</td>\n",
       "      <td>3.8</td>\n",
       "    </tr>\n",
       "    <tr>\n",
       "      <th>1</th>\n",
       "      <td>190</td>\n",
       "      <td>Twitter</td>\n",
       "      <td>82</td>\n",
       "      <td>4.8</td>\n",
       "      <td>Neutral</td>\n",
       "      <td>190</td>\n",
       "      <td>1140</td>\n",
       "      <td>401</td>\n",
       "      <td>2024-05-19</td>\n",
       "      <td>Sports</td>\n",
       "      <td>4.9</td>\n",
       "    </tr>\n",
       "    <tr>\n",
       "      <th>2</th>\n",
       "      <td>150</td>\n",
       "      <td>Facebook</td>\n",
       "      <td>96</td>\n",
       "      <td>1.6</td>\n",
       "      <td>Positive</td>\n",
       "      <td>150</td>\n",
       "      <td>1042</td>\n",
       "      <td>389</td>\n",
       "      <td>2024-02-11</td>\n",
       "      <td>Sports</td>\n",
       "      <td>NaN</td>\n",
       "    </tr>\n",
       "    <tr>\n",
       "      <th>3</th>\n",
       "      <td>150</td>\n",
       "      <td>Facebook</td>\n",
       "      <td>96</td>\n",
       "      <td>1.6</td>\n",
       "      <td>Positive</td>\n",
       "      <td>150</td>\n",
       "      <td>1046</td>\n",
       "      <td>177</td>\n",
       "      <td>2024-02-15</td>\n",
       "      <td>Books</td>\n",
       "      <td>3.6</td>\n",
       "    </tr>\n",
       "    <tr>\n",
       "      <th>4</th>\n",
       "      <td>162</td>\n",
       "      <td>Twitter</td>\n",
       "      <td>89</td>\n",
       "      <td>2.6</td>\n",
       "      <td>Positive</td>\n",
       "      <td>162</td>\n",
       "      <td>1079</td>\n",
       "      <td>101</td>\n",
       "      <td>2024-03-19</td>\n",
       "      <td>Books</td>\n",
       "      <td>4.2</td>\n",
       "    </tr>\n",
       "  </tbody>\n",
       "</table>\n",
       "</div>"
      ],
      "text/plain": [
       "   customer_id_new social_media_platform  engagement_score  \\\n",
       "0              190               Twitter                82   \n",
       "1              190               Twitter                82   \n",
       "2              150              Facebook                96   \n",
       "3              150              Facebook                96   \n",
       "4              162               Twitter                89   \n",
       "\n",
       "   purchase_interest_score review_sentiment  customer_id_legacy  \\\n",
       "0                      4.8          Neutral                 190   \n",
       "1                      4.8          Neutral                 190   \n",
       "2                      1.6         Positive                 150   \n",
       "3                      1.6         Positive                 150   \n",
       "4                      2.6         Positive                 162   \n",
       "\n",
       "   transaction_id  purchase_amount purchase_date product_category  \\\n",
       "0            1031              333    2024-01-31        Groceries   \n",
       "1            1140              401    2024-05-19           Sports   \n",
       "2            1042              389    2024-02-11           Sports   \n",
       "3            1046              177    2024-02-15            Books   \n",
       "4            1079              101    2024-03-19            Books   \n",
       "\n",
       "   customer_rating  \n",
       "0              3.8  \n",
       "1              4.9  \n",
       "2              NaN  \n",
       "3              3.6  \n",
       "4              4.2  "
      ]
     },
     "metadata": {},
     "output_type": "display_data"
    }
   ],
   "source": [
    "# Remove leading 'A' from social_df IDs and convert to int\n",
    "social_df['customer_id_new'] = social_df['customer_id_new'].str.lstrip('A').astype(int)\n",
    "\n",
    "# Convert transaction IDs to int\n",
    "transactions_df['customer_id_legacy'] = transactions_df['customer_id_legacy'].astype(int)\n",
    "\n",
    "# Merge on cleaned IDs\n",
    "merged_df = pd.merge(\n",
    "    social_df,\n",
    "    transactions_df,\n",
    "    left_on='customer_id_new',\n",
    "    right_on='customer_id_legacy',\n",
    "    how='inner'\n",
    ")\n",
    "\n",
    "print(f\"Merged dataset shape: {merged_df.shape}\")\n",
    "display(merged_df.head())\n"
   ]
  },
  {
   "cell_type": "markdown",
   "id": "0b061da9",
   "metadata": {},
   "source": [
    "Preview the Datasets"
   ]
  },
  {
   "cell_type": "code",
   "execution_count": 4,
   "id": "d8d7fbd4",
   "metadata": {},
   "outputs": [
    {
     "name": "stdout",
     "output_type": "stream",
     "text": [
      "Social Profiles Data Sample:\n"
     ]
    },
    {
     "data": {
      "text/html": [
       "<div>\n",
       "<style scoped>\n",
       "    .dataframe tbody tr th:only-of-type {\n",
       "        vertical-align: middle;\n",
       "    }\n",
       "\n",
       "    .dataframe tbody tr th {\n",
       "        vertical-align: top;\n",
       "    }\n",
       "\n",
       "    .dataframe thead th {\n",
       "        text-align: right;\n",
       "    }\n",
       "</style>\n",
       "<table border=\"1\" class=\"dataframe\">\n",
       "  <thead>\n",
       "    <tr style=\"text-align: right;\">\n",
       "      <th></th>\n",
       "      <th>customer_id_new</th>\n",
       "      <th>social_media_platform</th>\n",
       "      <th>engagement_score</th>\n",
       "      <th>purchase_interest_score</th>\n",
       "      <th>review_sentiment</th>\n",
       "    </tr>\n",
       "  </thead>\n",
       "  <tbody>\n",
       "    <tr>\n",
       "      <th>0</th>\n",
       "      <td>178</td>\n",
       "      <td>LinkedIn</td>\n",
       "      <td>74</td>\n",
       "      <td>4.9</td>\n",
       "      <td>Positive</td>\n",
       "    </tr>\n",
       "    <tr>\n",
       "      <th>1</th>\n",
       "      <td>190</td>\n",
       "      <td>Twitter</td>\n",
       "      <td>82</td>\n",
       "      <td>4.8</td>\n",
       "      <td>Neutral</td>\n",
       "    </tr>\n",
       "    <tr>\n",
       "      <th>2</th>\n",
       "      <td>150</td>\n",
       "      <td>Facebook</td>\n",
       "      <td>96</td>\n",
       "      <td>1.6</td>\n",
       "      <td>Positive</td>\n",
       "    </tr>\n",
       "    <tr>\n",
       "      <th>3</th>\n",
       "      <td>162</td>\n",
       "      <td>Twitter</td>\n",
       "      <td>89</td>\n",
       "      <td>2.6</td>\n",
       "      <td>Positive</td>\n",
       "    </tr>\n",
       "    <tr>\n",
       "      <th>4</th>\n",
       "      <td>197</td>\n",
       "      <td>Twitter</td>\n",
       "      <td>92</td>\n",
       "      <td>2.3</td>\n",
       "      <td>Neutral</td>\n",
       "    </tr>\n",
       "  </tbody>\n",
       "</table>\n",
       "</div>"
      ],
      "text/plain": [
       "   customer_id_new social_media_platform  engagement_score  \\\n",
       "0              178              LinkedIn                74   \n",
       "1              190               Twitter                82   \n",
       "2              150              Facebook                96   \n",
       "3              162               Twitter                89   \n",
       "4              197               Twitter                92   \n",
       "\n",
       "   purchase_interest_score review_sentiment  \n",
       "0                      4.9         Positive  \n",
       "1                      4.8          Neutral  \n",
       "2                      1.6         Positive  \n",
       "3                      2.6         Positive  \n",
       "4                      2.3          Neutral  "
      ]
     },
     "metadata": {},
     "output_type": "display_data"
    },
    {
     "name": "stdout",
     "output_type": "stream",
     "text": [
      "\n",
      "Transactions Data Sample:\n"
     ]
    },
    {
     "data": {
      "text/html": [
       "<div>\n",
       "<style scoped>\n",
       "    .dataframe tbody tr th:only-of-type {\n",
       "        vertical-align: middle;\n",
       "    }\n",
       "\n",
       "    .dataframe tbody tr th {\n",
       "        vertical-align: top;\n",
       "    }\n",
       "\n",
       "    .dataframe thead th {\n",
       "        text-align: right;\n",
       "    }\n",
       "</style>\n",
       "<table border=\"1\" class=\"dataframe\">\n",
       "  <thead>\n",
       "    <tr style=\"text-align: right;\">\n",
       "      <th></th>\n",
       "      <th>customer_id_legacy</th>\n",
       "      <th>transaction_id</th>\n",
       "      <th>purchase_amount</th>\n",
       "      <th>purchase_date</th>\n",
       "      <th>product_category</th>\n",
       "      <th>customer_rating</th>\n",
       "    </tr>\n",
       "  </thead>\n",
       "  <tbody>\n",
       "    <tr>\n",
       "      <th>0</th>\n",
       "      <td>151</td>\n",
       "      <td>1001</td>\n",
       "      <td>408</td>\n",
       "      <td>2024-01-01</td>\n",
       "      <td>Sports</td>\n",
       "      <td>2.3</td>\n",
       "    </tr>\n",
       "    <tr>\n",
       "      <th>1</th>\n",
       "      <td>192</td>\n",
       "      <td>1002</td>\n",
       "      <td>332</td>\n",
       "      <td>2024-01-02</td>\n",
       "      <td>Electronics</td>\n",
       "      <td>4.2</td>\n",
       "    </tr>\n",
       "    <tr>\n",
       "      <th>2</th>\n",
       "      <td>114</td>\n",
       "      <td>1003</td>\n",
       "      <td>442</td>\n",
       "      <td>2024-01-03</td>\n",
       "      <td>Electronics</td>\n",
       "      <td>2.1</td>\n",
       "    </tr>\n",
       "    <tr>\n",
       "      <th>3</th>\n",
       "      <td>171</td>\n",
       "      <td>1004</td>\n",
       "      <td>256</td>\n",
       "      <td>2024-01-04</td>\n",
       "      <td>Clothing</td>\n",
       "      <td>2.8</td>\n",
       "    </tr>\n",
       "    <tr>\n",
       "      <th>4</th>\n",
       "      <td>160</td>\n",
       "      <td>1005</td>\n",
       "      <td>64</td>\n",
       "      <td>2024-01-05</td>\n",
       "      <td>Clothing</td>\n",
       "      <td>1.3</td>\n",
       "    </tr>\n",
       "  </tbody>\n",
       "</table>\n",
       "</div>"
      ],
      "text/plain": [
       "   customer_id_legacy  transaction_id  purchase_amount purchase_date  \\\n",
       "0                 151            1001              408    2024-01-01   \n",
       "1                 192            1002              332    2024-01-02   \n",
       "2                 114            1003              442    2024-01-03   \n",
       "3                 171            1004              256    2024-01-04   \n",
       "4                 160            1005               64    2024-01-05   \n",
       "\n",
       "  product_category  customer_rating  \n",
       "0           Sports              2.3  \n",
       "1      Electronics              4.2  \n",
       "2      Electronics              2.1  \n",
       "3         Clothing              2.8  \n",
       "4         Clothing              1.3  "
      ]
     },
     "metadata": {},
     "output_type": "display_data"
    }
   ],
   "source": [
    "print(\"Social Profiles Data Sample:\")\n",
    "display(social_df.head())\n",
    "\n",
    "print(\"\\nTransactions Data Sample:\")\n",
    "display(transactions_df.head())\n"
   ]
  },
  {
   "cell_type": "markdown",
   "id": "b21fe255",
   "metadata": {},
   "source": [
    "Inspect Columns and Data Types"
   ]
  },
  {
   "cell_type": "code",
   "execution_count": 5,
   "id": "98806525",
   "metadata": {},
   "outputs": [
    {
     "name": "stdout",
     "output_type": "stream",
     "text": [
      "Social Profiles Columns:\n",
      "Index(['customer_id_new', 'social_media_platform', 'engagement_score',\n",
      "       'purchase_interest_score', 'review_sentiment'],\n",
      "      dtype='object')\n",
      "\n",
      "Transactions Columns:\n",
      "Index(['customer_id_legacy', 'transaction_id', 'purchase_amount',\n",
      "       'purchase_date', 'product_category', 'customer_rating'],\n",
      "      dtype='object')\n"
     ]
    }
   ],
   "source": [
    "print(\"Social Profiles Columns:\")\n",
    "print(social_df.columns)\n",
    "\n",
    "print(\"\\nTransactions Columns:\")\n",
    "print(transactions_df.columns)\n"
   ]
  },
  {
   "cell_type": "markdown",
   "id": "b48626f7",
   "metadata": {},
   "source": [
    "converting ID columns to same data type and Merge the Datasets"
   ]
  },
  {
   "cell_type": "code",
   "execution_count": 6,
   "id": "d89ec280",
   "metadata": {},
   "outputs": [
    {
     "name": "stdout",
     "output_type": "stream",
     "text": [
      "Merged dataset shape: (219, 11)\n"
     ]
    },
    {
     "data": {
      "text/html": [
       "<div>\n",
       "<style scoped>\n",
       "    .dataframe tbody tr th:only-of-type {\n",
       "        vertical-align: middle;\n",
       "    }\n",
       "\n",
       "    .dataframe tbody tr th {\n",
       "        vertical-align: top;\n",
       "    }\n",
       "\n",
       "    .dataframe thead th {\n",
       "        text-align: right;\n",
       "    }\n",
       "</style>\n",
       "<table border=\"1\" class=\"dataframe\">\n",
       "  <thead>\n",
       "    <tr style=\"text-align: right;\">\n",
       "      <th></th>\n",
       "      <th>customer_id_new</th>\n",
       "      <th>social_media_platform</th>\n",
       "      <th>engagement_score</th>\n",
       "      <th>purchase_interest_score</th>\n",
       "      <th>review_sentiment</th>\n",
       "      <th>customer_id_legacy</th>\n",
       "      <th>transaction_id</th>\n",
       "      <th>purchase_amount</th>\n",
       "      <th>purchase_date</th>\n",
       "      <th>product_category</th>\n",
       "      <th>customer_rating</th>\n",
       "    </tr>\n",
       "  </thead>\n",
       "  <tbody>\n",
       "    <tr>\n",
       "      <th>0</th>\n",
       "      <td>190</td>\n",
       "      <td>Twitter</td>\n",
       "      <td>82</td>\n",
       "      <td>4.8</td>\n",
       "      <td>Neutral</td>\n",
       "      <td>190</td>\n",
       "      <td>1031</td>\n",
       "      <td>333</td>\n",
       "      <td>2024-01-31</td>\n",
       "      <td>Groceries</td>\n",
       "      <td>3.8</td>\n",
       "    </tr>\n",
       "    <tr>\n",
       "      <th>1</th>\n",
       "      <td>190</td>\n",
       "      <td>Twitter</td>\n",
       "      <td>82</td>\n",
       "      <td>4.8</td>\n",
       "      <td>Neutral</td>\n",
       "      <td>190</td>\n",
       "      <td>1140</td>\n",
       "      <td>401</td>\n",
       "      <td>2024-05-19</td>\n",
       "      <td>Sports</td>\n",
       "      <td>4.9</td>\n",
       "    </tr>\n",
       "    <tr>\n",
       "      <th>2</th>\n",
       "      <td>150</td>\n",
       "      <td>Facebook</td>\n",
       "      <td>96</td>\n",
       "      <td>1.6</td>\n",
       "      <td>Positive</td>\n",
       "      <td>150</td>\n",
       "      <td>1042</td>\n",
       "      <td>389</td>\n",
       "      <td>2024-02-11</td>\n",
       "      <td>Sports</td>\n",
       "      <td>NaN</td>\n",
       "    </tr>\n",
       "    <tr>\n",
       "      <th>3</th>\n",
       "      <td>150</td>\n",
       "      <td>Facebook</td>\n",
       "      <td>96</td>\n",
       "      <td>1.6</td>\n",
       "      <td>Positive</td>\n",
       "      <td>150</td>\n",
       "      <td>1046</td>\n",
       "      <td>177</td>\n",
       "      <td>2024-02-15</td>\n",
       "      <td>Books</td>\n",
       "      <td>3.6</td>\n",
       "    </tr>\n",
       "    <tr>\n",
       "      <th>4</th>\n",
       "      <td>162</td>\n",
       "      <td>Twitter</td>\n",
       "      <td>89</td>\n",
       "      <td>2.6</td>\n",
       "      <td>Positive</td>\n",
       "      <td>162</td>\n",
       "      <td>1079</td>\n",
       "      <td>101</td>\n",
       "      <td>2024-03-19</td>\n",
       "      <td>Books</td>\n",
       "      <td>4.2</td>\n",
       "    </tr>\n",
       "  </tbody>\n",
       "</table>\n",
       "</div>"
      ],
      "text/plain": [
       "  customer_id_new social_media_platform  engagement_score  \\\n",
       "0             190               Twitter                82   \n",
       "1             190               Twitter                82   \n",
       "2             150              Facebook                96   \n",
       "3             150              Facebook                96   \n",
       "4             162               Twitter                89   \n",
       "\n",
       "   purchase_interest_score review_sentiment customer_id_legacy  \\\n",
       "0                      4.8          Neutral                190   \n",
       "1                      4.8          Neutral                190   \n",
       "2                      1.6         Positive                150   \n",
       "3                      1.6         Positive                150   \n",
       "4                      2.6         Positive                162   \n",
       "\n",
       "   transaction_id  purchase_amount purchase_date product_category  \\\n",
       "0            1031              333    2024-01-31        Groceries   \n",
       "1            1140              401    2024-05-19           Sports   \n",
       "2            1042              389    2024-02-11           Sports   \n",
       "3            1046              177    2024-02-15            Books   \n",
       "4            1079              101    2024-03-19            Books   \n",
       "\n",
       "   customer_rating  \n",
       "0              3.8  \n",
       "1              4.9  \n",
       "2              NaN  \n",
       "3              3.6  \n",
       "4              4.2  "
      ]
     },
     "metadata": {},
     "output_type": "display_data"
    }
   ],
   "source": [
    "# Convert both ID columns to string type\n",
    "social_df['customer_id_new'] = social_df['customer_id_new'].astype(str)\n",
    "transactions_df['customer_id_legacy'] = transactions_df['customer_id_legacy'].astype(str)\n",
    "\n",
    "# Now merge\n",
    "merged_df = pd.merge(\n",
    "    social_df,\n",
    "    transactions_df,\n",
    "    left_on='customer_id_new',\n",
    "    right_on='customer_id_legacy',\n",
    "    how='inner'\n",
    ")\n",
    "\n",
    "print(f\"Merged dataset shape: {merged_df.shape}\")\n",
    "display(merged_df.head())\n"
   ]
  },
  {
   "cell_type": "markdown",
   "id": "84ed1762",
   "metadata": {},
   "source": [
    "Handle Missing Values & Clean Data"
   ]
  },
  {
   "cell_type": "code",
   "execution_count": 7,
   "id": "0524b288",
   "metadata": {},
   "outputs": [
    {
     "name": "stdout",
     "output_type": "stream",
     "text": [
      "Missing values per column:\n",
      "customer_id_new             0\n",
      "social_media_platform       0\n",
      "engagement_score            0\n",
      "purchase_interest_score     0\n",
      "review_sentiment            0\n",
      "customer_id_legacy          0\n",
      "transaction_id              0\n",
      "purchase_amount             0\n",
      "purchase_date               0\n",
      "product_category            0\n",
      "customer_rating            19\n",
      "dtype: int64\n"
     ]
    },
    {
     "name": "stderr",
     "output_type": "stream",
     "text": [
      "C:\\Users\\Djafari\\AppData\\Local\\Temp\\ipykernel_5092\\2727651177.py:5: FutureWarning: DataFrame.fillna with 'method' is deprecated and will raise in a future version. Use obj.ffill() or obj.bfill() instead.\n",
      "  merged_df.fillna(method='ffill', inplace=True)\n"
     ]
    }
   ],
   "source": [
    "print(\"Missing values per column:\")\n",
    "print(merged_df.isnull().sum())\n",
    "\n",
    "# Example: Fill missing values forward\n",
    "merged_df.fillna(method='ffill', inplace=True)\n",
    "\n",
    "# Or drop missing rows (choose one based on your dataset)\n",
    "merged_df.drop(columns=['customer_id_legacy'], inplace=True)\n",
    "\n"
   ]
  },
  {
   "cell_type": "markdown",
   "id": "05c7352a",
   "metadata": {},
   "source": [
    "Feature Selection "
   ]
  },
  {
   "cell_type": "code",
   "execution_count": 8,
   "id": "622f182f",
   "metadata": {},
   "outputs": [],
   "source": [
    "# Example: Drop irrelevant columns if any\n",
    "columns_to_drop = ['column_to_drop1', 'column_to_drop2']  # replace with real columns if needed\n",
    "merged_df.drop(columns=columns_to_drop, inplace=True, errors='ignore')\n"
   ]
  },
  {
   "cell_type": "markdown",
   "id": "b42ca2ca",
   "metadata": {},
   "source": [
    "Save the Merged Dataset"
   ]
  },
  {
   "cell_type": "code",
   "execution_count": 9,
   "id": "a4c94fe9",
   "metadata": {},
   "outputs": [
    {
     "name": "stdout",
     "output_type": "stream",
     "text": [
      "Merged dataset saved as 'merged_customer_data.csv'\n"
     ]
    }
   ],
   "source": [
    "merged_df.to_csv('merged_customer_data.csv', index=False)\n",
    "print(\"Merged dataset saved as 'merged_customer_data.csv'\")\n"
   ]
  },
  {
   "cell_type": "code",
   "execution_count": 10,
   "id": "cbab690a",
   "metadata": {},
   "outputs": [
    {
     "ename": "KeyError",
     "evalue": "\"['customer_id_legacy'] not found in axis\"",
     "output_type": "error",
     "traceback": [
      "\u001b[1;31m---------------------------------------------------------------------------\u001b[0m",
      "\u001b[1;31mKeyError\u001b[0m                                  Traceback (most recent call last)",
      "Cell \u001b[1;32mIn[10], line 2\u001b[0m\n\u001b[0;32m      1\u001b[0m \u001b[38;5;66;03m# Drop the redundant customer ID column\u001b[39;00m\n\u001b[1;32m----> 2\u001b[0m \u001b[43mmerged_df\u001b[49m\u001b[38;5;241;43m.\u001b[39;49m\u001b[43mdrop\u001b[49m\u001b[43m(\u001b[49m\u001b[43mcolumns\u001b[49m\u001b[38;5;241;43m=\u001b[39;49m\u001b[43m[\u001b[49m\u001b[38;5;124;43m'\u001b[39;49m\u001b[38;5;124;43mcustomer_id_legacy\u001b[39;49m\u001b[38;5;124;43m'\u001b[39;49m\u001b[43m]\u001b[49m\u001b[43m,\u001b[49m\u001b[43m \u001b[49m\u001b[43minplace\u001b[49m\u001b[38;5;241;43m=\u001b[39;49m\u001b[38;5;28;43;01mTrue\u001b[39;49;00m\u001b[43m)\u001b[49m\n\u001b[0;32m      4\u001b[0m \u001b[38;5;66;03m# Save the cleaned dataset\u001b[39;00m\n\u001b[0;32m      5\u001b[0m merged_df\u001b[38;5;241m.\u001b[39mto_csv(\u001b[38;5;124m'\u001b[39m\u001b[38;5;124mmerged_customer_data_cleaned.csv\u001b[39m\u001b[38;5;124m'\u001b[39m, index\u001b[38;5;241m=\u001b[39m\u001b[38;5;28;01mFalse\u001b[39;00m)\n",
      "File \u001b[1;32mc:\\Users\\Djafari\\AppData\\Local\\Programs\\Python\\Python312\\Lib\\site-packages\\pandas\\core\\frame.py:5581\u001b[0m, in \u001b[0;36mDataFrame.drop\u001b[1;34m(self, labels, axis, index, columns, level, inplace, errors)\u001b[0m\n\u001b[0;32m   5433\u001b[0m \u001b[38;5;28;01mdef\u001b[39;00m\u001b[38;5;250m \u001b[39m\u001b[38;5;21mdrop\u001b[39m(\n\u001b[0;32m   5434\u001b[0m     \u001b[38;5;28mself\u001b[39m,\n\u001b[0;32m   5435\u001b[0m     labels: IndexLabel \u001b[38;5;241m|\u001b[39m \u001b[38;5;28;01mNone\u001b[39;00m \u001b[38;5;241m=\u001b[39m \u001b[38;5;28;01mNone\u001b[39;00m,\n\u001b[1;32m   (...)\u001b[0m\n\u001b[0;32m   5442\u001b[0m     errors: IgnoreRaise \u001b[38;5;241m=\u001b[39m \u001b[38;5;124m\"\u001b[39m\u001b[38;5;124mraise\u001b[39m\u001b[38;5;124m\"\u001b[39m,\n\u001b[0;32m   5443\u001b[0m ) \u001b[38;5;241m-\u001b[39m\u001b[38;5;241m>\u001b[39m DataFrame \u001b[38;5;241m|\u001b[39m \u001b[38;5;28;01mNone\u001b[39;00m:\n\u001b[0;32m   5444\u001b[0m \u001b[38;5;250m    \u001b[39m\u001b[38;5;124;03m\"\"\"\u001b[39;00m\n\u001b[0;32m   5445\u001b[0m \u001b[38;5;124;03m    Drop specified labels from rows or columns.\u001b[39;00m\n\u001b[0;32m   5446\u001b[0m \n\u001b[1;32m   (...)\u001b[0m\n\u001b[0;32m   5579\u001b[0m \u001b[38;5;124;03m            weight  1.0     0.8\u001b[39;00m\n\u001b[0;32m   5580\u001b[0m \u001b[38;5;124;03m    \"\"\"\u001b[39;00m\n\u001b[1;32m-> 5581\u001b[0m     \u001b[38;5;28;01mreturn\u001b[39;00m \u001b[38;5;28;43msuper\u001b[39;49m\u001b[43m(\u001b[49m\u001b[43m)\u001b[49m\u001b[38;5;241;43m.\u001b[39;49m\u001b[43mdrop\u001b[49m\u001b[43m(\u001b[49m\n\u001b[0;32m   5582\u001b[0m \u001b[43m        \u001b[49m\u001b[43mlabels\u001b[49m\u001b[38;5;241;43m=\u001b[39;49m\u001b[43mlabels\u001b[49m\u001b[43m,\u001b[49m\n\u001b[0;32m   5583\u001b[0m \u001b[43m        \u001b[49m\u001b[43maxis\u001b[49m\u001b[38;5;241;43m=\u001b[39;49m\u001b[43maxis\u001b[49m\u001b[43m,\u001b[49m\n\u001b[0;32m   5584\u001b[0m \u001b[43m        \u001b[49m\u001b[43mindex\u001b[49m\u001b[38;5;241;43m=\u001b[39;49m\u001b[43mindex\u001b[49m\u001b[43m,\u001b[49m\n\u001b[0;32m   5585\u001b[0m \u001b[43m        \u001b[49m\u001b[43mcolumns\u001b[49m\u001b[38;5;241;43m=\u001b[39;49m\u001b[43mcolumns\u001b[49m\u001b[43m,\u001b[49m\n\u001b[0;32m   5586\u001b[0m \u001b[43m        \u001b[49m\u001b[43mlevel\u001b[49m\u001b[38;5;241;43m=\u001b[39;49m\u001b[43mlevel\u001b[49m\u001b[43m,\u001b[49m\n\u001b[0;32m   5587\u001b[0m \u001b[43m        \u001b[49m\u001b[43minplace\u001b[49m\u001b[38;5;241;43m=\u001b[39;49m\u001b[43minplace\u001b[49m\u001b[43m,\u001b[49m\n\u001b[0;32m   5588\u001b[0m \u001b[43m        \u001b[49m\u001b[43merrors\u001b[49m\u001b[38;5;241;43m=\u001b[39;49m\u001b[43merrors\u001b[49m\u001b[43m,\u001b[49m\n\u001b[0;32m   5589\u001b[0m \u001b[43m    \u001b[49m\u001b[43m)\u001b[49m\n",
      "File \u001b[1;32mc:\\Users\\Djafari\\AppData\\Local\\Programs\\Python\\Python312\\Lib\\site-packages\\pandas\\core\\generic.py:4788\u001b[0m, in \u001b[0;36mNDFrame.drop\u001b[1;34m(self, labels, axis, index, columns, level, inplace, errors)\u001b[0m\n\u001b[0;32m   4786\u001b[0m \u001b[38;5;28;01mfor\u001b[39;00m axis, labels \u001b[38;5;129;01min\u001b[39;00m axes\u001b[38;5;241m.\u001b[39mitems():\n\u001b[0;32m   4787\u001b[0m     \u001b[38;5;28;01mif\u001b[39;00m labels \u001b[38;5;129;01mis\u001b[39;00m \u001b[38;5;129;01mnot\u001b[39;00m \u001b[38;5;28;01mNone\u001b[39;00m:\n\u001b[1;32m-> 4788\u001b[0m         obj \u001b[38;5;241m=\u001b[39m \u001b[43mobj\u001b[49m\u001b[38;5;241;43m.\u001b[39;49m\u001b[43m_drop_axis\u001b[49m\u001b[43m(\u001b[49m\u001b[43mlabels\u001b[49m\u001b[43m,\u001b[49m\u001b[43m \u001b[49m\u001b[43maxis\u001b[49m\u001b[43m,\u001b[49m\u001b[43m \u001b[49m\u001b[43mlevel\u001b[49m\u001b[38;5;241;43m=\u001b[39;49m\u001b[43mlevel\u001b[49m\u001b[43m,\u001b[49m\u001b[43m \u001b[49m\u001b[43merrors\u001b[49m\u001b[38;5;241;43m=\u001b[39;49m\u001b[43merrors\u001b[49m\u001b[43m)\u001b[49m\n\u001b[0;32m   4790\u001b[0m \u001b[38;5;28;01mif\u001b[39;00m inplace:\n\u001b[0;32m   4791\u001b[0m     \u001b[38;5;28mself\u001b[39m\u001b[38;5;241m.\u001b[39m_update_inplace(obj)\n",
      "File \u001b[1;32mc:\\Users\\Djafari\\AppData\\Local\\Programs\\Python\\Python312\\Lib\\site-packages\\pandas\\core\\generic.py:4830\u001b[0m, in \u001b[0;36mNDFrame._drop_axis\u001b[1;34m(self, labels, axis, level, errors, only_slice)\u001b[0m\n\u001b[0;32m   4828\u001b[0m         new_axis \u001b[38;5;241m=\u001b[39m axis\u001b[38;5;241m.\u001b[39mdrop(labels, level\u001b[38;5;241m=\u001b[39mlevel, errors\u001b[38;5;241m=\u001b[39merrors)\n\u001b[0;32m   4829\u001b[0m     \u001b[38;5;28;01melse\u001b[39;00m:\n\u001b[1;32m-> 4830\u001b[0m         new_axis \u001b[38;5;241m=\u001b[39m \u001b[43maxis\u001b[49m\u001b[38;5;241;43m.\u001b[39;49m\u001b[43mdrop\u001b[49m\u001b[43m(\u001b[49m\u001b[43mlabels\u001b[49m\u001b[43m,\u001b[49m\u001b[43m \u001b[49m\u001b[43merrors\u001b[49m\u001b[38;5;241;43m=\u001b[39;49m\u001b[43merrors\u001b[49m\u001b[43m)\u001b[49m\n\u001b[0;32m   4831\u001b[0m     indexer \u001b[38;5;241m=\u001b[39m axis\u001b[38;5;241m.\u001b[39mget_indexer(new_axis)\n\u001b[0;32m   4833\u001b[0m \u001b[38;5;66;03m# Case for non-unique axis\u001b[39;00m\n\u001b[0;32m   4834\u001b[0m \u001b[38;5;28;01melse\u001b[39;00m:\n",
      "File \u001b[1;32mc:\\Users\\Djafari\\AppData\\Local\\Programs\\Python\\Python312\\Lib\\site-packages\\pandas\\core\\indexes\\base.py:7070\u001b[0m, in \u001b[0;36mIndex.drop\u001b[1;34m(self, labels, errors)\u001b[0m\n\u001b[0;32m   7068\u001b[0m \u001b[38;5;28;01mif\u001b[39;00m mask\u001b[38;5;241m.\u001b[39many():\n\u001b[0;32m   7069\u001b[0m     \u001b[38;5;28;01mif\u001b[39;00m errors \u001b[38;5;241m!=\u001b[39m \u001b[38;5;124m\"\u001b[39m\u001b[38;5;124mignore\u001b[39m\u001b[38;5;124m\"\u001b[39m:\n\u001b[1;32m-> 7070\u001b[0m         \u001b[38;5;28;01mraise\u001b[39;00m \u001b[38;5;167;01mKeyError\u001b[39;00m(\u001b[38;5;124mf\u001b[39m\u001b[38;5;124m\"\u001b[39m\u001b[38;5;132;01m{\u001b[39;00mlabels[mask]\u001b[38;5;241m.\u001b[39mtolist()\u001b[38;5;132;01m}\u001b[39;00m\u001b[38;5;124m not found in axis\u001b[39m\u001b[38;5;124m\"\u001b[39m)\n\u001b[0;32m   7071\u001b[0m     indexer \u001b[38;5;241m=\u001b[39m indexer[\u001b[38;5;241m~\u001b[39mmask]\n\u001b[0;32m   7072\u001b[0m \u001b[38;5;28;01mreturn\u001b[39;00m \u001b[38;5;28mself\u001b[39m\u001b[38;5;241m.\u001b[39mdelete(indexer)\n",
      "\u001b[1;31mKeyError\u001b[0m: \"['customer_id_legacy'] not found in axis\""
     ]
    }
   ],
   "source": [
    "# Drop the redundant customer ID column\n",
    "merged_df.drop(columns=['customer_id_legacy'], inplace=True)\n",
    "\n",
    "# Save the cleaned dataset\n",
    "merged_df.to_csv('merged_customer_data_cleaned.csv', index=False)\n",
    "\n",
    "print(\"Cleaned merged data saved as 'merged_customer_data_cleaned.csv'\")\n"
   ]
  }
 ],
 "metadata": {
  "kernelspec": {
   "display_name": "Python 3",
   "language": "python",
   "name": "python3"
  },
  "language_info": {
   "codemirror_mode": {
    "name": "ipython",
    "version": 3
   },
   "file_extension": ".py",
   "mimetype": "text/x-python",
   "name": "python",
   "nbconvert_exporter": "python",
   "pygments_lexer": "ipython3",
   "version": "3.12.4"
  }
 },
 "nbformat": 4,
 "nbformat_minor": 5
}
