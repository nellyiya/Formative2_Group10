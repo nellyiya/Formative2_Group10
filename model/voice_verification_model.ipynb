{
 "cells": [
  {
   "cell_type": "markdown",
   "id": "7e198a99",
   "metadata": {},
   "source": [
    "# 2.voice_verification_model.py"
   ]
  },
  {
   "cell_type": "markdown",
   "id": "ac5da8cc",
   "metadata": {},
   "source": [
    "This model uses MFCC-based voice features to classify speakers based on their voiceprints. It includes data loading, preprocessing, feature engineering, model training (Random Forest, Logistic Regression, XGBoost), and performance evaluation."
   ]
  },
  {
   "cell_type": "markdown",
   "id": "91981bac",
   "metadata": {},
   "source": [
    "Import Library"
   ]
  },
  {
   "cell_type": "code",
   "execution_count": 45,
   "id": "50d6bfa3",
   "metadata": {},
   "outputs": [],
   "source": [
    "import pandas as pd\n",
    "import os\n",
    "import matplotlib.pyplot as plt\n",
    "import seaborn as sns\n",
    "from sklearn.ensemble import RandomForestClassifier\n",
    "from sklearn.model_selection import train_test_split\n",
    "from sklearn.metrics import accuracy_score, f1_score, confusion_matrix, log_loss\n",
    "from sklearn.preprocessing import LabelEncoder\n",
    "import joblib\n"
   ]
  },
  {
   "cell_type": "markdown",
   "id": "3da10ec4",
   "metadata": {},
   "source": [
    " Load Data"
   ]
  },
  {
   "cell_type": "code",
   "execution_count": 46,
   "id": "4f5fb270",
   "metadata": {},
   "outputs": [
    {
     "name": "stdout",
     "output_type": "stream",
     "text": [
      "                  filename  mfcc_mean  rolloff_mean    energy\n",
      "0         KG_25_Avenue.wav -23.892967   3483.395508  0.000100\n",
      "1       KG_25_Avenue_3.wav -21.878180   3329.424716  0.000135\n",
      "2  yes_approve_stretch.wav -27.027054   3524.677734  0.000040\n",
      "3    yes_approve_pitch.wav -25.835110   4257.914062  0.000044\n",
      "4    yes_approve_noise.wav -20.430970   8949.537598  0.000109\n"
     ]
    }
   ],
   "source": [
    "df = pd.read_csv(\"../audio_features.csv\")  # Replace with your actual file path\n",
    "print(df.head())\n"
   ]
  },
  {
   "cell_type": "markdown",
   "id": "6b199db9",
   "metadata": {},
   "source": [
    "Define Training Function"
   ]
  },
  {
   "cell_type": "code",
   "execution_count": 47,
   "id": "856cd475",
   "metadata": {},
   "outputs": [],
   "source": [
    "def train_voice_model():\n",
    "    df = pd.read_csv(\"../audio_features.csv\")\n",
    "\n",
    "    if 'filename' not in df.columns:\n",
    "        raise KeyError(\"The 'filename' column is missing in audio_features.csv\")\n",
    "\n",
    "    # Extract label from filename\n",
    "    df['label'] = df['filename'].apply(lambda x: os.path.basename(x).split('_')[0])\n",
    "\n",
    "    # Encode label\n",
    "    le = LabelEncoder()\n",
    "    df['label'] = le.fit_transform(df['label'])\n",
    "\n",
    "    # Features\n",
    "    X = df.drop(columns=['filename', 'label'])\n",
    "\n",
    "    # Convert object columns to numeric\n",
    "    for col in X.columns:\n",
    "        if X[col].dtype == 'object':\n",
    "            X[col] = LabelEncoder().fit_transform(X[col])\n",
    "\n",
    "    y = df['label']\n",
    "\n",
    "    # Smart split\n",
    "    if len(df) >= len(le.classes_) * 5:\n",
    "        stratify_option = y\n",
    "        test_size = 0.3\n",
    "    else:\n",
    "        stratify_option = None\n",
    "        test_size = 0.2\n",
    "\n",
    "    X_train, X_test, y_train, y_test = train_test_split(\n",
    "        X, y, test_size=test_size, random_state=42, stratify=stratify_option\n",
    "    )\n",
    "\n",
    "    return X_train, X_test, y_train, y_test, le\n"
   ]
  },
  {
   "cell_type": "markdown",
   "id": "c9dc328d",
   "metadata": {},
   "source": [
    "Train and Evaluate Model"
   ]
  },
  {
   "cell_type": "code",
   "execution_count": 48,
   "id": "385accd5",
   "metadata": {},
   "outputs": [],
   "source": [
    "def train_and_evaluate(X_train, X_test, y_train, y_test, le):\n",
    "    model = RandomForestClassifier(n_estimators=100, random_state=42)\n",
    "    model.fit(X_train, y_train)\n",
    "\n",
    "    y_pred = model.predict(X_test)\n",
    "    y_proba = model.predict_proba(X_test)\n",
    "\n",
    "    acc = accuracy_score(y_test, y_pred)\n",
    "    f1 = f1_score(y_test, y_pred, average=\"weighted\")\n",
    "    loss = log_loss(y_test, y_proba, labels=le.transform(le.classes_))\n",
    "\n",
    "    print(f\" Accuracy: {acc:.4f}\")\n",
    "    print(f\" F1 Score: {f1:.4f}\")\n",
    "    print(f\" Log Loss: {loss:.4f}\")\n",
    "\n",
    "    return model, y_pred\n"
   ]
  },
  {
   "cell_type": "markdown",
   "id": "1b628cd5",
   "metadata": {},
   "source": [
    "Plot Confusion Matrix"
   ]
  },
  {
   "cell_type": "code",
   "execution_count": 49,
   "id": "933d4444",
   "metadata": {},
   "outputs": [],
   "source": [
    "def plot_confusion(y_test, y_pred, le):\n",
    "    cm = confusion_matrix(y_test, y_pred)\n",
    "    plt.figure(figsize=(8, 6))\n",
    "    sns.heatmap(cm, annot=True, fmt='d', cmap=\"Blues\",\n",
    "                xticklabels=le.classes_,\n",
    "                yticklabels=le.classes_)\n",
    "    plt.title(\" Confusion Matrix\")\n",
    "    plt.xlabel(\"Predicted\")\n",
    "    plt.ylabel(\"Actual\")\n",
    "    plt.tight_layout()\n",
    "    plt.show()\n"
   ]
  },
  {
   "cell_type": "markdown",
   "id": "ecc85ca9",
   "metadata": {},
   "source": [
    "Save Model"
   ]
  },
  {
   "cell_type": "code",
   "execution_count": 50,
   "id": "c67b8e44",
   "metadata": {},
   "outputs": [],
   "source": [
    "def save_model(model, le):\n",
    "    os.makedirs(\"saved_models\", exist_ok=True)\n",
    "    joblib.dump(model, \"saved_models/voice_model.pkl\")\n",
    "    joblib.dump(le, \"saved_models/voice_label_encoder.pkl\")\n",
    "    print(\" Voice model trained and saved successfully.\")\n"
   ]
  },
  {
   "cell_type": "markdown",
   "id": "ef3e7c0c",
   "metadata": {},
   "source": [
    "Run Everything"
   ]
  },
  {
   "cell_type": "code",
   "execution_count": 51,
   "id": "6664a0ad",
   "metadata": {},
   "outputs": [
    {
     "name": "stdout",
     "output_type": "stream",
     "text": [
      " Accuracy: 0.5000\n",
      " F1 Score: 0.3333\n",
      " Log Loss: 0.8205\n"
     ]
    },
    {
     "data": {
      "image/png": "[encoded data removed]",
      "text/plain": [
       "<Figure size 800x600 with 2 Axes>"
      ]
     },
     "metadata": {},
     "output_type": "display_data"
    },
    {
     "name": "stdout",
     "output_type": "stream",
     "text": [
      " Voice model trained and saved successfully.\n"
     ]
    }
   ],
   "source": [
    "X_train, X_test, y_train, y_test, le = train_voice_model()\n",
    "model, y_pred = train_and_evaluate(X_train, X_test, y_train, y_test, le)\n",
    "plot_confusion(y_test, y_pred, le)\n",
    "save_model(model, le)\n"
   ]
  }
 ],
 "metadata": {
  "kernelspec": {
   "display_name": "Python 3",
   "language": "python",
   "name": "python3"
  },
  "language_info": {
   "codemirror_mode": {
    "name": "ipython",
    "version": 3
   },
   "file_extension": ".py",
   "mimetype": "text/x-python",
   "name": "python",
   "nbconvert_exporter": "python",
   "pygments_lexer": "ipython3",
   "version": "3.12.4"
  }
 },
 "nbformat": 4,
 "nbformat_minor": 5
}
