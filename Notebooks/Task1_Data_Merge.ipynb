{
 "cells": [
  {
   "cell_type": "markdown",
   "metadata": {},
   "source": [
    "Importing library"
   ]
  },
  {
   "cell_type": "code",
   "execution_count": 26,
   "metadata": {},
   "outputs": [],
   "source": [
    "\n",
    "import pandas as pd\n",
    "import numpy as np\n",
    "import matplotlib.pyplot as plt\n",
    "import seaborn as sns\n",
    "\n",
    "# visualization style\n",
    "plt.style.use('seaborn-v0_8-white')\n",
    "sns.set_palette('viridis')\n",
    "\n",
    "# Display settings\n",
    "%matplotlib inline\n",
    "pd.set_option('display.max_columns', None)\n",
    "pd.set_option('display.width', 1000)"
   ]
  },
  {
   "cell_type": "markdown",
   "metadata": {},
   "source": [
    "### Load the Datasets"
   ]
  },
  {
   "cell_type": "code",
   "execution_count": 27,
   "metadata": {},
   "outputs": [
    {
     "name": "stdout",
     "output_type": "stream",
     "text": [
      "Customer Social Profiles:\n"
     ]
    },
    {
     "data": {
      "text/html": [
       "<div>\n",
       "<style scoped>\n",
       "    .dataframe tbody tr th:only-of-type {\n",
       "        vertical-align: middle;\n",
       "    }\n",
       "\n",
       "    .dataframe tbody tr th {\n",
       "        vertical-align: top;\n",
       "    }\n",
       "\n",
       "    .dataframe thead th {\n",
       "        text-align: right;\n",
       "    }\n",
       "</style>\n",
       "<table border=\"1\" class=\"dataframe\">\n",
       "  <thead>\n",
       "    <tr style=\"text-align: right;\">\n",
       "      <th></th>\n",
       "      <th>customer_id_new</th>\n",
       "      <th>social_media_platform</th>\n",
       "      <th>engagement_score</th>\n",
       "      <th>purchase_interest_score</th>\n",
       "      <th>review_sentiment</th>\n",
       "    </tr>\n",
       "  </thead>\n",
       "  <tbody>\n",
       "    <tr>\n",
       "      <th>0</th>\n",
       "      <td>A178</td>\n",
       "      <td>LinkedIn</td>\n",
       "      <td>74</td>\n",
       "      <td>4.9</td>\n",
       "      <td>Positive</td>\n",
       "    </tr>\n",
       "    <tr>\n",
       "      <th>1</th>\n",
       "      <td>A190</td>\n",
       "      <td>Twitter</td>\n",
       "      <td>82</td>\n",
       "      <td>4.8</td>\n",
       "      <td>Neutral</td>\n",
       "    </tr>\n",
       "    <tr>\n",
       "      <th>2</th>\n",
       "      <td>A150</td>\n",
       "      <td>Facebook</td>\n",
       "      <td>96</td>\n",
       "      <td>1.6</td>\n",
       "      <td>Positive</td>\n",
       "    </tr>\n",
       "    <tr>\n",
       "      <th>3</th>\n",
       "      <td>A162</td>\n",
       "      <td>Twitter</td>\n",
       "      <td>89</td>\n",
       "      <td>2.6</td>\n",
       "      <td>Positive</td>\n",
       "    </tr>\n",
       "    <tr>\n",
       "      <th>4</th>\n",
       "      <td>A197</td>\n",
       "      <td>Twitter</td>\n",
       "      <td>92</td>\n",
       "      <td>2.3</td>\n",
       "      <td>Neutral</td>\n",
       "    </tr>\n",
       "  </tbody>\n",
       "</table>\n",
       "</div>"
      ],
      "text/plain": [
       "  customer_id_new social_media_platform  engagement_score  purchase_interest_score review_sentiment\n",
       "0            A178              LinkedIn                74                      4.9         Positive\n",
       "1            A190               Twitter                82                      4.8          Neutral\n",
       "2            A150              Facebook                96                      1.6         Positive\n",
       "3            A162               Twitter                89                      2.6         Positive\n",
       "4            A197               Twitter                92                      2.3          Neutral"
      ]
     },
     "metadata": {},
     "output_type": "display_data"
    },
    {
     "name": "stdout",
     "output_type": "stream",
     "text": [
      "\n",
      "Customer Transactions:\n"
     ]
    },
    {
     "data": {
      "text/html": [
       "<div>\n",
       "<style scoped>\n",
       "    .dataframe tbody tr th:only-of-type {\n",
       "        vertical-align: middle;\n",
       "    }\n",
       "\n",
       "    .dataframe tbody tr th {\n",
       "        vertical-align: top;\n",
       "    }\n",
       "\n",
       "    .dataframe thead th {\n",
       "        text-align: right;\n",
       "    }\n",
       "</style>\n",
       "<table border=\"1\" class=\"dataframe\">\n",
       "  <thead>\n",
       "    <tr style=\"text-align: right;\">\n",
       "      <th></th>\n",
       "      <th>customer_id_legacy</th>\n",
       "      <th>transaction_id</th>\n",
       "      <th>purchase_amount</th>\n",
       "      <th>purchase_date</th>\n",
       "      <th>product_category</th>\n",
       "      <th>customer_rating</th>\n",
       "    </tr>\n",
       "  </thead>\n",
       "  <tbody>\n",
       "    <tr>\n",
       "      <th>0</th>\n",
       "      <td>151</td>\n",
       "      <td>1001</td>\n",
       "      <td>408</td>\n",
       "      <td>2024-01-01</td>\n",
       "      <td>Sports</td>\n",
       "      <td>2.3</td>\n",
       "    </tr>\n",
       "    <tr>\n",
       "      <th>1</th>\n",
       "      <td>192</td>\n",
       "      <td>1002</td>\n",
       "      <td>332</td>\n",
       "      <td>2024-01-02</td>\n",
       "      <td>Electronics</td>\n",
       "      <td>4.2</td>\n",
       "    </tr>\n",
       "    <tr>\n",
       "      <th>2</th>\n",
       "      <td>114</td>\n",
       "      <td>1003</td>\n",
       "      <td>442</td>\n",
       "      <td>2024-01-03</td>\n",
       "      <td>Electronics</td>\n",
       "      <td>2.1</td>\n",
       "    </tr>\n",
       "    <tr>\n",
       "      <th>3</th>\n",
       "      <td>171</td>\n",
       "      <td>1004</td>\n",
       "      <td>256</td>\n",
       "      <td>2024-01-04</td>\n",
       "      <td>Clothing</td>\n",
       "      <td>2.8</td>\n",
       "    </tr>\n",
       "    <tr>\n",
       "      <th>4</th>\n",
       "      <td>160</td>\n",
       "      <td>1005</td>\n",
       "      <td>64</td>\n",
       "      <td>2024-01-05</td>\n",
       "      <td>Clothing</td>\n",
       "      <td>1.3</td>\n",
       "    </tr>\n",
       "  </tbody>\n",
       "</table>\n",
       "</div>"
      ],
      "text/plain": [
       "   customer_id_legacy  transaction_id  purchase_amount purchase_date product_category  customer_rating\n",
       "0                 151            1001              408    2024-01-01           Sports              2.3\n",
       "1                 192            1002              332    2024-01-02      Electronics              4.2\n",
       "2                 114            1003              442    2024-01-03      Electronics              2.1\n",
       "3                 171            1004              256    2024-01-04         Clothing              2.8\n",
       "4                 160            1005               64    2024-01-05         Clothing              1.3"
      ]
     },
     "metadata": {},
     "output_type": "display_data"
    },
    {
     "name": "stdout",
     "output_type": "stream",
     "text": [
      "Social profiles shape: (155, 5)\n",
      "Transactions shape: (150, 6)\n"
     ]
    }
   ],
   "source": [
    "# Load social profiles data\n",
    "social_profiles = pd.read_csv('../data/customer_social_profiles.csv')\n",
    "\n",
    "# Load transactions data\n",
    "transactions = pd.read_csv('../data/customer_transactions.csv')\n",
    "\n",
    "# Display the first few rows (each dataset) \n",
    "print(\"Customer Social Profiles:\")\n",
    "display(social_profiles.head())\n",
    "\n",
    "print(\"\\nCustomer Transactions:\")\n",
    "display(transactions.head())\n",
    "\n",
    "# Dataset dimensions\n",
    "print(f\"Social profiles shape: {social_profiles.shape}\")\n",
    "print(f\"Transactions shape: {transactions.shape}\")"
   ]
  },
  {
   "cell_type": "markdown",
   "metadata": {},
   "source": [
    "###  Summary Statistics"
   ]
  },
  {
   "cell_type": "code",
   "execution_count": 28,
   "metadata": {},
   "outputs": [
    {
     "name": "stdout",
     "output_type": "stream",
     "text": [
      " Summary Statistics for Social Profiles:\n"
     ]
    },
    {
     "data": {
      "text/html": [
       "<div>\n",
       "<style scoped>\n",
       "    .dataframe tbody tr th:only-of-type {\n",
       "        vertical-align: middle;\n",
       "    }\n",
       "\n",
       "    .dataframe tbody tr th {\n",
       "        vertical-align: top;\n",
       "    }\n",
       "\n",
       "    .dataframe thead th {\n",
       "        text-align: right;\n",
       "    }\n",
       "</style>\n",
       "<table border=\"1\" class=\"dataframe\">\n",
       "  <thead>\n",
       "    <tr style=\"text-align: right;\">\n",
       "      <th></th>\n",
       "      <th>count</th>\n",
       "      <th>unique</th>\n",
       "      <th>top</th>\n",
       "      <th>freq</th>\n",
       "      <th>mean</th>\n",
       "      <th>std</th>\n",
       "      <th>min</th>\n",
       "      <th>25%</th>\n",
       "      <th>50%</th>\n",
       "      <th>75%</th>\n",
       "      <th>max</th>\n",
       "    </tr>\n",
       "  </thead>\n",
       "  <tbody>\n",
       "    <tr>\n",
       "      <th>customer_id_new</th>\n",
       "      <td>155</td>\n",
       "      <td>84</td>\n",
       "      <td>A155</td>\n",
       "      <td>7</td>\n",
       "      <td>NaN</td>\n",
       "      <td>NaN</td>\n",
       "      <td>NaN</td>\n",
       "      <td>NaN</td>\n",
       "      <td>NaN</td>\n",
       "      <td>NaN</td>\n",
       "      <td>NaN</td>\n",
       "    </tr>\n",
       "    <tr>\n",
       "      <th>social_media_platform</th>\n",
       "      <td>155</td>\n",
       "      <td>5</td>\n",
       "      <td>Twitter</td>\n",
       "      <td>38</td>\n",
       "      <td>NaN</td>\n",
       "      <td>NaN</td>\n",
       "      <td>NaN</td>\n",
       "      <td>NaN</td>\n",
       "      <td>NaN</td>\n",
       "      <td>NaN</td>\n",
       "      <td>NaN</td>\n",
       "    </tr>\n",
       "    <tr>\n",
       "      <th>engagement_score</th>\n",
       "      <td>155.0</td>\n",
       "      <td>NaN</td>\n",
       "      <td>NaN</td>\n",
       "      <td>NaN</td>\n",
       "      <td>75.606452</td>\n",
       "      <td>14.568021</td>\n",
       "      <td>50.0</td>\n",
       "      <td>63.5</td>\n",
       "      <td>77.0</td>\n",
       "      <td>87.5</td>\n",
       "      <td>99.0</td>\n",
       "    </tr>\n",
       "    <tr>\n",
       "      <th>purchase_interest_score</th>\n",
       "      <td>155.0</td>\n",
       "      <td>NaN</td>\n",
       "      <td>NaN</td>\n",
       "      <td>NaN</td>\n",
       "      <td>3.152903</td>\n",
       "      <td>1.142867</td>\n",
       "      <td>1.0</td>\n",
       "      <td>2.35</td>\n",
       "      <td>3.2</td>\n",
       "      <td>4.1</td>\n",
       "      <td>5.0</td>\n",
       "    </tr>\n",
       "    <tr>\n",
       "      <th>review_sentiment</th>\n",
       "      <td>155</td>\n",
       "      <td>3</td>\n",
       "      <td>Positive</td>\n",
       "      <td>63</td>\n",
       "      <td>NaN</td>\n",
       "      <td>NaN</td>\n",
       "      <td>NaN</td>\n",
       "      <td>NaN</td>\n",
       "      <td>NaN</td>\n",
       "      <td>NaN</td>\n",
       "      <td>NaN</td>\n",
       "    </tr>\n",
       "  </tbody>\n",
       "</table>\n",
       "</div>"
      ],
      "text/plain": [
       "                         count unique       top freq       mean        std   min   25%   50%   75%   max\n",
       "customer_id_new            155     84      A155    7        NaN        NaN   NaN   NaN   NaN   NaN   NaN\n",
       "social_media_platform      155      5   Twitter   38        NaN        NaN   NaN   NaN   NaN   NaN   NaN\n",
       "engagement_score         155.0    NaN       NaN  NaN  75.606452  14.568021  50.0  63.5  77.0  87.5  99.0\n",
       "purchase_interest_score  155.0    NaN       NaN  NaN   3.152903   1.142867   1.0  2.35   3.2   4.1   5.0\n",
       "review_sentiment           155      3  Positive   63        NaN        NaN   NaN   NaN   NaN   NaN   NaN"
      ]
     },
     "metadata": {},
     "output_type": "display_data"
    },
    {
     "name": "stdout",
     "output_type": "stream",
     "text": [
      "\n",
      " Summary Statistics for Transactions:\n"
     ]
    },
    {
     "data": {
      "text/html": [
       "<div>\n",
       "<style scoped>\n",
       "    .dataframe tbody tr th:only-of-type {\n",
       "        vertical-align: middle;\n",
       "    }\n",
       "\n",
       "    .dataframe tbody tr th {\n",
       "        vertical-align: top;\n",
       "    }\n",
       "\n",
       "    .dataframe thead th {\n",
       "        text-align: right;\n",
       "    }\n",
       "</style>\n",
       "<table border=\"1\" class=\"dataframe\">\n",
       "  <thead>\n",
       "    <tr style=\"text-align: right;\">\n",
       "      <th></th>\n",
       "      <th>count</th>\n",
       "      <th>unique</th>\n",
       "      <th>top</th>\n",
       "      <th>freq</th>\n",
       "      <th>mean</th>\n",
       "      <th>std</th>\n",
       "      <th>min</th>\n",
       "      <th>25%</th>\n",
       "      <th>50%</th>\n",
       "      <th>75%</th>\n",
       "      <th>max</th>\n",
       "    </tr>\n",
       "  </thead>\n",
       "  <tbody>\n",
       "    <tr>\n",
       "      <th>customer_id_legacy</th>\n",
       "      <td>150.0</td>\n",
       "      <td>NaN</td>\n",
       "      <td>NaN</td>\n",
       "      <td>NaN</td>\n",
       "      <td>148.76</td>\n",
       "      <td>30.046425</td>\n",
       "      <td>100.0</td>\n",
       "      <td>121.25</td>\n",
       "      <td>150.5</td>\n",
       "      <td>174.75</td>\n",
       "      <td>199.0</td>\n",
       "    </tr>\n",
       "    <tr>\n",
       "      <th>transaction_id</th>\n",
       "      <td>150.0</td>\n",
       "      <td>NaN</td>\n",
       "      <td>NaN</td>\n",
       "      <td>NaN</td>\n",
       "      <td>1075.5</td>\n",
       "      <td>43.445368</td>\n",
       "      <td>1001.0</td>\n",
       "      <td>1038.25</td>\n",
       "      <td>1075.5</td>\n",
       "      <td>1112.75</td>\n",
       "      <td>1150.0</td>\n",
       "    </tr>\n",
       "    <tr>\n",
       "      <th>purchase_amount</th>\n",
       "      <td>150.0</td>\n",
       "      <td>NaN</td>\n",
       "      <td>NaN</td>\n",
       "      <td>NaN</td>\n",
       "      <td>280.78</td>\n",
       "      <td>121.329595</td>\n",
       "      <td>51.0</td>\n",
       "      <td>179.0</td>\n",
       "      <td>274.0</td>\n",
       "      <td>388.5</td>\n",
       "      <td>495.0</td>\n",
       "    </tr>\n",
       "    <tr>\n",
       "      <th>purchase_date</th>\n",
       "      <td>150</td>\n",
       "      <td>150</td>\n",
       "      <td>2024-01-01</td>\n",
       "      <td>1</td>\n",
       "      <td>NaN</td>\n",
       "      <td>NaN</td>\n",
       "      <td>NaN</td>\n",
       "      <td>NaN</td>\n",
       "      <td>NaN</td>\n",
       "      <td>NaN</td>\n",
       "      <td>NaN</td>\n",
       "    </tr>\n",
       "    <tr>\n",
       "      <th>product_category</th>\n",
       "      <td>150</td>\n",
       "      <td>5</td>\n",
       "      <td>Sports</td>\n",
       "      <td>35</td>\n",
       "      <td>NaN</td>\n",
       "      <td>NaN</td>\n",
       "      <td>NaN</td>\n",
       "      <td>NaN</td>\n",
       "      <td>NaN</td>\n",
       "      <td>NaN</td>\n",
       "      <td>NaN</td>\n",
       "    </tr>\n",
       "    <tr>\n",
       "      <th>customer_rating</th>\n",
       "      <td>140.0</td>\n",
       "      <td>NaN</td>\n",
       "      <td>NaN</td>\n",
       "      <td>NaN</td>\n",
       "      <td>2.985</td>\n",
       "      <td>1.20699</td>\n",
       "      <td>1.0</td>\n",
       "      <td>1.95</td>\n",
       "      <td>3.0</td>\n",
       "      <td>4.0</td>\n",
       "      <td>5.0</td>\n",
       "    </tr>\n",
       "  </tbody>\n",
       "</table>\n",
       "</div>"
      ],
      "text/plain": [
       "                    count unique         top freq    mean         std     min      25%     50%      75%     max\n",
       "customer_id_legacy  150.0    NaN         NaN  NaN  148.76   30.046425   100.0   121.25   150.5   174.75   199.0\n",
       "transaction_id      150.0    NaN         NaN  NaN  1075.5   43.445368  1001.0  1038.25  1075.5  1112.75  1150.0\n",
       "purchase_amount     150.0    NaN         NaN  NaN  280.78  121.329595    51.0    179.0   274.0    388.5   495.0\n",
       "purchase_date         150    150  2024-01-01    1     NaN         NaN     NaN      NaN     NaN      NaN     NaN\n",
       "product_category      150      5      Sports   35     NaN         NaN     NaN      NaN     NaN      NaN     NaN\n",
       "customer_rating     140.0    NaN         NaN  NaN   2.985     1.20699     1.0     1.95     3.0      4.0     5.0"
      ]
     },
     "metadata": {},
     "output_type": "display_data"
    },
    {
     "name": "stdout",
     "output_type": "stream",
     "text": [
      "\n",
      "Social Media Platforms: ['LinkedIn' 'Twitter' 'Facebook' 'TikTok' 'Instagram']\n",
      "Review Sentiments: ['Positive' 'Neutral' 'Negative']\n",
      "Product Categories: ['Sports' 'Electronics' 'Clothing' 'Groceries' 'Books']\n"
     ]
    }
   ],
   "source": [
    "# Summary statistics (social profiles) \n",
    "print(\" Summary Statistics for Social Profiles:\")\n",
    "display(social_profiles.describe(include='all').T)\n",
    "\n",
    "# Summary statistics  (transactions)\n",
    "print(\"\\n Summary Statistics for Transactions:\")\n",
    "display(transactions.describe(include='all').T)\n",
    "\n",
    "# Check unique values in categorical columns\n",
    "print('\\nSocial Media Platforms:', social_profiles['social_media_platform'].unique())\n",
    "print('Review Sentiments:', social_profiles['review_sentiment'].unique())\n",
    "print('Product Categories:', transactions['product_category'].unique())"
   ]
  },
  {
   "cell_type": "code",
   "execution_count": 29,
   "metadata": {},
   "outputs": [
    {
     "name": "stdout",
     "output_type": "stream",
     "text": [
      "Social Profiles Data Types:\n"
     ]
    },
    {
     "data": {
      "text/plain": [
       "customer_id_new             object\n",
       "social_media_platform       object\n",
       "engagement_score             int64\n",
       "purchase_interest_score    float64\n",
       "review_sentiment            object\n",
       "dtype: object"
      ]
     },
     "metadata": {},
     "output_type": "display_data"
    },
    {
     "name": "stdout",
     "output_type": "stream",
     "text": [
      "\n",
      "Social Profiles Missing Values:\n"
     ]
    },
    {
     "data": {
      "text/plain": [
       "customer_id_new            0\n",
       "social_media_platform      0\n",
       "engagement_score           0\n",
       "purchase_interest_score    0\n",
       "review_sentiment           0\n",
       "dtype: int64"
      ]
     },
     "metadata": {},
     "output_type": "display_data"
    },
    {
     "name": "stdout",
     "output_type": "stream",
     "text": [
      "\n",
      "Transactions Data Types:\n"
     ]
    },
    {
     "data": {
      "text/plain": [
       "customer_id_legacy      int64\n",
       "transaction_id          int64\n",
       "purchase_amount         int64\n",
       "purchase_date          object\n",
       "product_category       object\n",
       "customer_rating       float64\n",
       "dtype: object"
      ]
     },
     "metadata": {},
     "output_type": "display_data"
    },
    {
     "name": "stdout",
     "output_type": "stream",
     "text": [
      "\n",
      "Transactions Missing Values:\n"
     ]
    },
    {
     "data": {
      "text/plain": [
       "customer_id_legacy     0\n",
       "transaction_id         0\n",
       "purchase_amount        0\n",
       "purchase_date          0\n",
       "product_category       0\n",
       "customer_rating       10\n",
       "dtype: int64"
      ]
     },
     "metadata": {},
     "output_type": "display_data"
    },
    {
     "name": "stdout",
     "output_type": "stream",
     "text": [
      "\n",
      "Duplicates in social profiles: 5\n",
      "Duplicates in transactions: 0\n",
      "Duplicates in social profiles customer_id_new: 71\n",
      "Duplicates in transactions customer_id_legacy: 75\n"
     ]
    }
   ],
   "source": [
    "# Check data types and missing values in social profiles \n",
    "print(\"Social Profiles Data Types:\")\n",
    "display(social_profiles.dtypes)\n",
    "print(\"\\nSocial Profiles Missing Values:\")\n",
    "display(social_profiles.isnull().sum())\n",
    "\n",
    "# Check data types and missing values in transactions\n",
    "print(\"\\nTransactions Data Types:\")\n",
    "display(transactions.dtypes)\n",
    "print(\"\\nTransactions Missing Values:\")\n",
    "display(transactions.isnull().sum())\n",
    "\n",
    "# Check for duplicates\n",
    "print(f\"\\nDuplicates in social profiles: {social_profiles.duplicated().sum()}\")\n",
    "print(f\"Duplicates in transactions: {transactions.duplicated().sum()}\")\n",
    "\n",
    "# Check for duplicates in customer IDs\n",
    "print(f\"Duplicates in social profiles customer_id_new: {social_profiles['customer_id_new'].duplicated().sum()}\")\n",
    "print(f\"Duplicates in transactions customer_id_legacy: {transactions['customer_id_legacy'].duplicated().sum()}\")"
   ]
  },
  {
   "cell_type": "markdown",
   "metadata": {},
   "source": []
  },
  {
   "cell_type": "markdown",
   "metadata": {},
   "source": [
    "### Data Visualization"
   ]
  },
  {
   "cell_type": "code",
   "execution_count": 30,
   "metadata": {},
   "outputs": [
    {
     "data": {
      "image/png": "[encoded data removed]",
      "text/plain": [
       "<Figure size 1200x500 with 2 Axes>"
      ]
     },
     "metadata": {},
     "output_type": "display_data"
    }
   ],
   "source": [
    "colors = ['skyblue', 'green']  \n",
    "\n",
    "plt.figure(figsize=(12, 5))\n",
    "for i, col in enumerate(social_profiles.select_dtypes(include=['int64', 'float64']).columns):\n",
    "    plt.subplot(1, 2, i+1)\n",
    "    sns.histplot(social_profiles[col], kde=True, color=colors[i % len(colors)])\n",
    "    plt.title(f'Distribution of {col}')\n",
    "plt.tight_layout()\n",
    "plt.show()"
   ]
  },
  {
   "cell_type": "markdown",
   "metadata": {},
   "source": [
    " Distribution of product categories in transactions"
   ]
  },
  {
   "cell_type": "code",
   "execution_count": 31,
   "metadata": {},
   "outputs": [
    {
     "data": {
      "image/png": "[encoded data removed]",
      "text/plain": [
       "<Figure size 1000x500 with 1 Axes>"
      ]
     },
     "metadata": {},
     "output_type": "display_data"
    }
   ],
   "source": [
    "plt.figure(figsize=(10, 5))\n",
    "sns.countplot(\n",
    "    y=transactions['product_category'],\n",
    "    order=transactions['product_category'].value_counts().index,\n",
    "    color='mediumseagreen'  # You can change this to any valid color name or hex code\n",
    ")\n",
    "plt.title('Distribution of Product Categories')\n",
    "plt.xlabel('Count')\n",
    "plt.ylabel('Product Category')\n",
    "plt.show()\n"
   ]
  },
  {
   "cell_type": "markdown",
   "metadata": {},
   "source": [
    " Analyzing Customer ID Relationship"
   ]
  },
  {
   "cell_type": "code",
   "execution_count": 32,
   "metadata": {},
   "outputs": [
    {
     "name": "stdout",
     "output_type": "stream",
     "text": [
      "Number of unique customer_id_num in social: 84\n",
      "Number of unique customer_id_legacy in transactions: 75\n",
      "Number of overlapping IDs: 61\n",
      "Percentage of social profiles with matching transactions: 72.62 %\n",
      "Percentage of transactions with matching social profiles: 81.33 %\n"
     ]
    }
   ],
   "source": [
    "import re\n",
    "\n",
    "# Extract numeric part from customer_id_new\n",
    "social_profiles['customer_id_num'] = social_profiles['customer_id_new'].apply(\n",
    "    lambda x: int(re.search(r'A(\\d+)', x).group(1))\n",
    ")\n",
    "\n",
    "# Check overlap between the two datasets\n",
    "social_ids = set(social_profiles['customer_id_num'])\n",
    "trans_ids = set(transactions['customer_id_legacy'])\n",
    "overlap = social_ids.intersection(trans_ids)\n",
    "\n",
    "print('Number of unique customer_id_num in social:', len(social_ids))\n",
    "print('Number of unique customer_id_legacy in transactions:', len(trans_ids))\n",
    "print('Number of overlapping IDs:', len(overlap))\n",
    "print('Percentage of social profiles with matching transactions:', \n",
    "      round(len(overlap) / len(social_ids) * 100, 2), '%')\n",
    "print('Percentage of transactions with matching social profiles:', \n",
    "      round(len(overlap) / len(trans_ids) * 100, 2), '%')"
   ]
  },
  {
   "cell_type": "markdown",
   "metadata": {},
   "source": [
    "Distribution of social media platforms"
   ]
  },
  {
   "cell_type": "code",
   "execution_count": 33,
   "metadata": {},
   "outputs": [
    {
     "data": {
      "image/png": "[encoded data removed]",
      "text/plain": [
       "<Figure size 1000x500 with 1 Axes>"
      ]
     },
     "metadata": {},
     "output_type": "display_data"
    }
   ],
   "source": [
    "plt.figure(figsize=(10, 5))\n",
    "sns.countplot(\n",
    "    y=social_profiles['social_media_platform'], \n",
    "    order=social_profiles['social_media_platform'].value_counts().index,\n",
    "    color='green'  \n",
    ")\n",
    "plt.title('Distribution of Social Media Platforms')\n",
    "plt.xlabel('Count')\n",
    "plt.ylabel('Platform')\n",
    "plt.show()\n"
   ]
  },
  {
   "cell_type": "markdown",
   "metadata": {},
   "source": [
    "Data Cleaning"
   ]
  },
  {
   "cell_type": "code",
   "execution_count": 34,
   "metadata": {},
   "outputs": [
    {
     "name": "stdout",
     "output_type": "stream",
     "text": [
      "Original social profiles shape: (155, 6)\n",
      "Social profiles shape after removing duplicate customer IDs: (84, 6)\n",
      "\n",
      "Missing values in social profiles after cleaning:\n"
     ]
    },
    {
     "data": {
      "text/plain": [
       "customer_id_new            0\n",
       "social_media_platform      0\n",
       "engagement_score           0\n",
       "purchase_interest_score    0\n",
       "review_sentiment           0\n",
       "customer_id_num            0\n",
       "dtype: int64"
      ]
     },
     "metadata": {},
     "output_type": "display_data"
    }
   ],
   "source": [
    "# Handle missing values in social profiles\n",
    "social_profiles_clean = social_profiles.copy()\n",
    "print(f\"Original social profiles shape: {social_profiles.shape}\")\n",
    "\n",
    "# Since we have duplicated customer IDs, let's keep only unique customer IDs\n",
    "# We'll keep the first occurrence of each customer ID\n",
    "social_profiles_clean = social_profiles_clean.drop_duplicates(subset=['customer_id_new'])\n",
    "print(f\"Social profiles shape after removing duplicate customer IDs: {social_profiles_clean.shape}\")\n",
    "\n",
    "# No missing values to handle in social profiles\n",
    "print(\"\\nMissing values in social profiles after cleaning:\")\n",
    "display(social_profiles_clean.isnull().sum())"
   ]
  },
  {
   "cell_type": "code",
   "execution_count": 35,
   "metadata": {},
   "outputs": [
    {
     "name": "stdout",
     "output_type": "stream",
     "text": [
      "Original transactions shape: (150, 6)\n",
      "Transactions shape after keeping most recent transaction per customer: (75, 6)\n",
      "Missing customer ratings: 6\n",
      "\n",
      "Missing values after cleaning:\n"
     ]
    },
    {
     "data": {
      "text/plain": [
       "customer_id_legacy    0\n",
       "transaction_id        0\n",
       "purchase_amount       0\n",
       "purchase_date         0\n",
       "product_category      0\n",
       "customer_rating       0\n",
       "dtype: int64"
      ]
     },
     "metadata": {},
     "output_type": "display_data"
    }
   ],
   "source": [
    "# Handle missing values and duplicates in transactions\n",
    "transactions_clean = transactions.copy()\n",
    "print(f\"Original transactions shape: {transactions.shape}\")\n",
    "\n",
    "# Since we have duplicated customer IDs, let's aggregate transactions by customer\n",
    "# We'll keep one row per customer with their most recent transaction\n",
    "transactions_clean = transactions_clean.sort_values('purchase_date', ascending=False)\n",
    "transactions_clean = transactions_clean.drop_duplicates(subset=['customer_id_legacy'])\n",
    "print(f\"Transactions shape after keeping most recent transaction per customer: {transactions_clean.shape}\")\n",
    "\n",
    "# Handle missing values in customer_rating\n",
    "print(f\"Missing customer ratings: {transactions_clean['customer_rating'].isnull().sum()}\")\n",
    "transactions_clean['customer_rating'] = transactions_clean['customer_rating'].fillna(\n",
    "    transactions_clean['customer_rating'].median()\n",
    ")\n",
    "\n",
    "print(\"\\nMissing values after cleaning:\")\n",
    "display(transactions_clean.isnull().sum())"
   ]
  },
  {
   "cell_type": "markdown",
   "metadata": {},
   "source": [
    " Data Merge"
   ]
  },
  {
   "cell_type": "code",
   "execution_count": 36,
   "metadata": {},
   "outputs": [
    {
     "name": "stdout",
     "output_type": "stream",
     "text": [
      "Social profiles columns:\n",
      "['customer_id_new', 'social_media_platform', 'engagement_score', 'purchase_interest_score', 'review_sentiment', 'customer_id_num']\n",
      "\n",
      "Transactions columns:\n",
      "['customer_id_legacy', 'transaction_id', 'purchase_amount', 'purchase_date', 'product_category', 'customer_rating']\n"
     ]
    }
   ],
   "source": [
    "# finding the common key\n",
    "print(\"Social profiles columns:\")\n",
    "print(social_profiles_clean.columns.tolist())\n",
    "print(\"\\nTransactions columns:\")\n",
    "print(transactions_clean.columns.tolist())\n",
    "\n"
   ]
  },
  {
   "cell_type": "code",
   "execution_count": 37,
   "metadata": {},
   "outputs": [
    {
     "name": "stdout",
     "output_type": "stream",
     "text": [
      "\n",
      "Sample of customer_id_num from social profiles:\n",
      "  customer_id_new  customer_id_num\n",
      "0            A178              178\n",
      "1            A190              190\n",
      "2            A150              150\n",
      "3            A162              162\n",
      "4            A197              197\n",
      "\n",
      "Sample of customer_id_legacy from transactions:\n",
      "     customer_id_legacy\n",
      "149                 113\n",
      "148                 189\n",
      "147                 104\n",
      "146                 100\n",
      "145                 102\n"
     ]
    }
   ],
   "source": [
    "# We'll merge on customer_id_num (social profiles) and customer_id_legacy (transactions)\n",
    "print(\"\\nSample of customer_id_num from social profiles:\")\n",
    "print(social_profiles_clean[['customer_id_new', 'customer_id_num']].head())\n",
    "\n",
    "print(\"\\nSample of customer_id_legacy from transactions:\")\n",
    "print(transactions_clean[['customer_id_legacy']].head())"
   ]
  },
  {
   "cell_type": "code",
   "execution_count": 38,
   "metadata": {},
   "outputs": [
    {
     "name": "stdout",
     "output_type": "stream",
     "text": [
      "Shape of merged dataset: (61, 12)\n",
      "Number of unique customers: 61\n"
     ]
    },
    {
     "data": {
      "text/html": [
       "<div>\n",
       "<style scoped>\n",
       "    .dataframe tbody tr th:only-of-type {\n",
       "        vertical-align: middle;\n",
       "    }\n",
       "\n",
       "    .dataframe tbody tr th {\n",
       "        vertical-align: top;\n",
       "    }\n",
       "\n",
       "    .dataframe thead th {\n",
       "        text-align: right;\n",
       "    }\n",
       "</style>\n",
       "<table border=\"1\" class=\"dataframe\">\n",
       "  <thead>\n",
       "    <tr style=\"text-align: right;\">\n",
       "      <th></th>\n",
       "      <th>customer_id_new</th>\n",
       "      <th>social_media_platform</th>\n",
       "      <th>engagement_score</th>\n",
       "      <th>purchase_interest_score</th>\n",
       "      <th>review_sentiment</th>\n",
       "      <th>customer_id_num</th>\n",
       "      <th>customer_id_legacy</th>\n",
       "      <th>transaction_id</th>\n",
       "      <th>purchase_amount</th>\n",
       "      <th>purchase_date</th>\n",
       "      <th>product_category</th>\n",
       "      <th>customer_rating</th>\n",
       "    </tr>\n",
       "  </thead>\n",
       "  <tbody>\n",
       "    <tr>\n",
       "      <th>0</th>\n",
       "      <td>A190</td>\n",
       "      <td>Twitter</td>\n",
       "      <td>82</td>\n",
       "      <td>4.8</td>\n",
       "      <td>Neutral</td>\n",
       "      <td>190</td>\n",
       "      <td>190</td>\n",
       "      <td>1140</td>\n",
       "      <td>401</td>\n",
       "      <td>2024-05-19</td>\n",
       "      <td>Sports</td>\n",
       "      <td>4.9</td>\n",
       "    </tr>\n",
       "    <tr>\n",
       "      <th>1</th>\n",
       "      <td>A150</td>\n",
       "      <td>Facebook</td>\n",
       "      <td>96</td>\n",
       "      <td>1.6</td>\n",
       "      <td>Positive</td>\n",
       "      <td>150</td>\n",
       "      <td>150</td>\n",
       "      <td>1046</td>\n",
       "      <td>177</td>\n",
       "      <td>2024-02-15</td>\n",
       "      <td>Books</td>\n",
       "      <td>3.6</td>\n",
       "    </tr>\n",
       "    <tr>\n",
       "      <th>2</th>\n",
       "      <td>A162</td>\n",
       "      <td>Twitter</td>\n",
       "      <td>89</td>\n",
       "      <td>2.6</td>\n",
       "      <td>Positive</td>\n",
       "      <td>162</td>\n",
       "      <td>162</td>\n",
       "      <td>1116</td>\n",
       "      <td>343</td>\n",
       "      <td>2024-04-25</td>\n",
       "      <td>Books</td>\n",
       "      <td>1.4</td>\n",
       "    </tr>\n",
       "    <tr>\n",
       "      <th>3</th>\n",
       "      <td>A151</td>\n",
       "      <td>TikTok</td>\n",
       "      <td>61</td>\n",
       "      <td>1.3</td>\n",
       "      <td>Neutral</td>\n",
       "      <td>151</td>\n",
       "      <td>151</td>\n",
       "      <td>1001</td>\n",
       "      <td>408</td>\n",
       "      <td>2024-01-01</td>\n",
       "      <td>Sports</td>\n",
       "      <td>2.3</td>\n",
       "    </tr>\n",
       "    <tr>\n",
       "      <th>4</th>\n",
       "      <td>A137</td>\n",
       "      <td>LinkedIn</td>\n",
       "      <td>93</td>\n",
       "      <td>3.5</td>\n",
       "      <td>Neutral</td>\n",
       "      <td>137</td>\n",
       "      <td>137</td>\n",
       "      <td>1020</td>\n",
       "      <td>286</td>\n",
       "      <td>2024-01-20</td>\n",
       "      <td>Electronics</td>\n",
       "      <td>3.2</td>\n",
       "    </tr>\n",
       "  </tbody>\n",
       "</table>\n",
       "</div>"
      ],
      "text/plain": [
       "  customer_id_new social_media_platform  engagement_score  purchase_interest_score review_sentiment  customer_id_num  customer_id_legacy  transaction_id  purchase_amount purchase_date product_category  customer_rating\n",
       "0            A190               Twitter                82                      4.8          Neutral              190                 190            1140              401    2024-05-19           Sports              4.9\n",
       "1            A150              Facebook                96                      1.6         Positive              150                 150            1046              177    2024-02-15            Books              3.6\n",
       "2            A162               Twitter                89                      2.6         Positive              162                 162            1116              343    2024-04-25            Books              1.4\n",
       "3            A151                TikTok                61                      1.3          Neutral              151                 151            1001              408    2024-01-01           Sports              2.3\n",
       "4            A137              LinkedIn                93                      3.5          Neutral              137                 137            1020              286    2024-01-20      Electronics              3.2"
      ]
     },
     "metadata": {},
     "output_type": "display_data"
    }
   ],
   "source": [
    "# Merging  the datasets\n",
    "merged_df = pd.merge(\n",
    "    social_profiles_clean, \n",
    "    transactions_clean, \n",
    "    left_on='customer_id_num', \n",
    "    right_on='customer_id_legacy', \n",
    "    how='inner'\n",
    ")\n",
    "\n",
    "print(f\"Shape of merged dataset: {merged_df.shape}\")\n",
    "print(f\"Number of unique customers: {merged_df['customer_id_new'].nunique()}\")\n",
    "display(merged_df.head())"
   ]
  },
  {
   "cell_type": "code",
   "execution_count": 39,
   "metadata": {},
   "outputs": [
    {
     "name": "stdout",
     "output_type": "stream",
     "text": [
      "  customer_id_new social_media_platform  engagement_score  purchase_interest_score review_sentiment  customer_id_num  customer_id_legacy  transaction_id  purchase_amount purchase_date product_category  customer_rating  purchase_day  purchase_month  purchase_weekday  high_engagement  high_purchase_interest  social_media_platform_encoded  review_sentiment_encoded  product_category_encoded  total_purchase_amount\n",
      "0            A190               Twitter                82                      4.8          Neutral              190                 190            1140              401    2024-05-19           Sports              4.9            19               5                 6                1                       1                              4                         1                         4                    401\n",
      "1            A150              Facebook                96                      1.6         Positive              150                 150            1046              177    2024-02-15            Books              3.6            15               2                 3                1                       0                              0                         2                         0                    177\n",
      "2            A162               Twitter                89                      2.6         Positive              162                 162            1116              343    2024-04-25            Books              1.4            25               4                 3                1                       0                              4                         2                         0                    343\n",
      "3            A151                TikTok                61                      1.3          Neutral              151                 151            1001              408    2024-01-01           Sports              2.3             1               1                 0                0                       0                              3                         1                         4                    408\n",
      "4            A137              LinkedIn                93                      3.5          Neutral              137                 137            1020              286    2024-01-20      Electronics              3.2            20               1                 5                1                       1                              2                         1                         2                    286\n"
     ]
    }
   ],
   "source": [
    "import pandas as pd\n",
    "\n",
    "# Convert purchase_date to datetime type for date-related features\n",
    "merged_df['purchase_date'] = pd.to_datetime(merged_df['purchase_date'])\n",
    "\n",
    "# Extract useful date parts\n",
    "merged_df['purchase_day'] = merged_df['purchase_date'].dt.day\n",
    "merged_df['purchase_month'] = merged_df['purchase_date'].dt.month\n",
    "merged_df['purchase_weekday'] = merged_df['purchase_date'].dt.weekday  # Monday=0, Sunday=6\n",
    "\n",
    "# Create a flag for high engagement (threshold = 80 as example)\n",
    "merged_df['high_engagement'] = (merged_df['engagement_score'] > 80).astype(int)\n",
    "\n",
    "# Create a flag for high purchase interest (threshold = 3.0 as example)\n",
    "merged_df['high_purchase_interest'] = (merged_df['purchase_interest_score'] > 3.0).astype(int)\n",
    "\n",
    "# Encode categorical variables to numeric (simple label encoding)\n",
    "merged_df['social_media_platform_encoded'] = merged_df['social_media_platform'].astype('category').cat.codes\n",
    "merged_df['review_sentiment_encoded'] = merged_df['review_sentiment'].astype('category').cat.codes\n",
    "merged_df['product_category_encoded'] = merged_df['product_category'].astype('category').cat.codes\n",
    "\n",
    "# Aggregate: Calculate total purchase amount per customer (group by customer_id_new)\n",
    "total_purchase = merged_df.groupby('customer_id_new')['purchase_amount'].sum().reset_index()\n",
    "total_purchase = total_purchase.rename(columns={'purchase_amount': 'total_purchase_amount'})\n",
    "merged_df = merged_df.merge(total_purchase, on='customer_id_new', how='left')\n",
    "\n",
    "# Preview the new features\n",
    "print(merged_df.head())\n"
   ]
  },
  {
   "cell_type": "code",
   "execution_count": 51,
   "metadata": {},
   "outputs": [
    {
     "name": "stdout",
     "output_type": "stream",
     "text": [
      "Engineered dataset successfully saved to: C:\\Users\\Djafari\\Desktop\\Formative2_Group10\\data\\merged_engineered_dataset.csv\n"
     ]
    }
   ],
   "source": [
    "import pandas as pd\n",
    "from pathlib import Path\n",
    "\n",
    "# The merged dataset, 'merged_df', is assumed ready at this point.\n",
    "\n",
    "# Convert 'purchase_date' from string to datetime format to make date operations easier\n",
    "merged_df['purchase_date'] = pd.to_datetime(merged_df['purchase_date'])\n",
    "\n",
    "# Break down the purchase date into day, month, and weekday components for better analysis\n",
    "merged_df['purchase_day'] = merged_df['purchase_date'].dt.day\n",
    "merged_df['purchase_month'] = merged_df['purchase_date'].dt.month\n",
    "merged_df['purchase_weekday'] = merged_df['purchase_date'].dt.weekday  # Monday=0\n",
    "\n",
    "# Create simple binary flags to identify customers with high engagement and high purchase interest\n",
    "merged_df['high_engagement'] = (merged_df['engagement_score'] > 80).astype(int)\n",
    "merged_df['high_purchase_interest'] = (merged_df['purchase_interest_score'] > 3.0).astype(int)\n",
    "\n",
    "# Turn categorical columns into numeric codes to prepare for modeling\n",
    "merged_df['social_media_platform_encoded'] = merged_df['social_media_platform'].astype('category').cat.codes\n",
    "merged_df['review_sentiment_encoded'] = merged_df['review_sentiment'].astype('category').cat.codes\n",
    "merged_df['product_category_encoded'] = merged_df['product_category'].astype('category').cat.codes\n",
    "\n",
    "# Calculate total amount spent by each customer and add it as a new feature\n",
    "total_purchase = merged_df.groupby('customer_id_new')['purchase_amount'].sum().reset_index()\n",
    "total_purchase = total_purchase.rename(columns={'purchase_amount': 'total_purchase_amount'})\n",
    "merged_df = merged_df.merge(total_purchase, on='customer_id_new', how='left')\n",
    "\n",
    "# Set up the path to save the engineered dataset outside the Notebooks folder, inside 'data'\n",
    "data_folder = Path.cwd().parent / 'data'\n",
    "data_folder.mkdir(parents=True, exist_ok=True)  # Make sure the folder exists\n",
    "\n",
    "output_path = data_folder / 'merged_engineered_dataset.csv'\n",
    "\n",
    "# Save the final dataset with all new features for later use\n",
    "merged_df.to_csv(output_path, index=False)\n",
    "\n",
    "print(f\"Engineered dataset successfully saved to: {output_path.resolve()}\")\n"
   ]
  },
  {
   "cell_type": "markdown",
   "metadata": {},
   "source": [
    "### 1.7 Merge Validation"
   ]
  },
  {
   "cell_type": "code",
   "execution_count": 41,
   "metadata": {},
   "outputs": [
    {
     "name": "stdout",
     "output_type": "stream",
     "text": [
      "Original social profiles count: 84\n",
      "Original transactions count: 75\n",
      "Merged dataset count: 61\n"
     ]
    }
   ],
   "source": [
    "\n",
    "# Checking how many records we have now\n",
    "\n",
    "print(f\"Original social profiles count: {social_profiles_clean.shape[0]}\")\n",
    "print(f\"Original transactions count: {transactions_clean.shape[0]}\")\n",
    "print(f\"Merged dataset count: {merged_df.shape[0]}\")\n",
    "\n"
   ]
  },
  {
   "cell_type": "code",
   "execution_count": 42,
   "metadata": {},
   "outputs": [
    {
     "name": "stdout",
     "output_type": "stream",
     "text": [
      "Percentage of social profiles matched: 72.62%\n",
      "Percentage of transactions matched: 81.33%\n"
     ]
    }
   ],
   "source": [
    "# Calculate percentage of records that were matched\n",
    "print(f\"Percentage of social profiles matched: {merged_df.shape[0]/social_profiles_clean.shape[0]*100:.2f}%\")\n",
    "print(f\"Percentage of transactions matched: {merged_df.shape[0]/transactions_clean.shape[0]*100:.2f}%\")\n",
    "\n"
   ]
  },
  {
   "cell_type": "code",
   "execution_count": 43,
   "metadata": {},
   "outputs": [
    {
     "name": "stdout",
     "output_type": "stream",
     "text": [
      "Duplicate columns created during merge: ['total_purchase_amount_x', 'total_purchase_amount_y']\n"
     ]
    }
   ],
   "source": [
    "# Checking for any duplicate \n",
    "duplicate_columns = [col for col in merged_df.columns if col.endswith('_x') or col.endswith('_y')]\n",
    "print(f\"Duplicate columns created during merge: {duplicate_columns}\")\n",
    "\n"
   ]
  },
  {
   "cell_type": "code",
   "execution_count": 44,
   "metadata": {},
   "outputs": [
    {
     "name": "stdout",
     "output_type": "stream",
     "text": [
      "\n",
      "Missing values in merged dataset:\n"
     ]
    },
    {
     "data": {
      "text/plain": [
       "customer_id_new                  0\n",
       "social_media_platform            0\n",
       "engagement_score                 0\n",
       "purchase_interest_score          0\n",
       "review_sentiment                 0\n",
       "customer_id_num                  0\n",
       "customer_id_legacy               0\n",
       "transaction_id                   0\n",
       "purchase_amount                  0\n",
       "purchase_date                    0\n",
       "product_category                 0\n",
       "customer_rating                  0\n",
       "purchase_day                     0\n",
       "purchase_month                   0\n",
       "purchase_weekday                 0\n",
       "high_engagement                  0\n",
       "high_purchase_interest           0\n",
       "social_media_platform_encoded    0\n",
       "review_sentiment_encoded         0\n",
       "product_category_encoded         0\n",
       "total_purchase_amount_x          0\n",
       "total_purchase_amount_y          0\n",
       "dtype: int64"
      ]
     },
     "metadata": {},
     "output_type": "display_data"
    }
   ],
   "source": [
    "# Verify data integrity \n",
    "print(\"\\nMissing values in merged dataset:\")\n",
    "display(merged_df.isnull().sum())"
   ]
  },
  {
   "cell_type": "code",
   "execution_count": 45,
   "metadata": {},
   "outputs": [
    {
     "name": "stdout",
     "output_type": "stream",
     "text": [
      "Duplicate columns created during merge: ['total_purchase_amount_x', 'total_purchase_amount_y']\n",
      "\n",
      "Missing values in merged dataset:\n"
     ]
    },
    {
     "data": {
      "text/plain": [
       "customer_id_new                  0\n",
       "social_media_platform            0\n",
       "engagement_score                 0\n",
       "purchase_interest_score          0\n",
       "review_sentiment                 0\n",
       "customer_id_num                  0\n",
       "customer_id_legacy               0\n",
       "transaction_id                   0\n",
       "purchase_amount                  0\n",
       "purchase_date                    0\n",
       "product_category                 0\n",
       "customer_rating                  0\n",
       "purchase_day                     0\n",
       "purchase_month                   0\n",
       "purchase_weekday                 0\n",
       "high_engagement                  0\n",
       "high_purchase_interest           0\n",
       "social_media_platform_encoded    0\n",
       "review_sentiment_encoded         0\n",
       "product_category_encoded         0\n",
       "total_purchase_amount_x          0\n",
       "total_purchase_amount_y          0\n",
       "dtype: int64"
      ]
     },
     "metadata": {},
     "output_type": "display_data"
    }
   ],
   "source": [
    "# Checking for any duplicate \n",
    "duplicate_columns = [col for col in merged_df.columns if col.endswith('_x') or col.endswith('_y')]\n",
    "print(f\"Duplicate columns created during merge: {duplicate_columns}\")\n",
    "\n",
    "# Verify data integrity after merge\n",
    "print(\"\\nMissing values in merged dataset:\")\n",
    "display(merged_df.isnull().sum())"
   ]
  },
  {
   "cell_type": "code",
   "execution_count": 46,
   "metadata": {},
   "outputs": [
    {
     "data": {
      "image/png": "[encoded data removed]",
      "text/plain": [
       "<Figure size 1000x800 with 2 Axes>"
      ]
     },
     "metadata": {},
     "output_type": "display_data"
    }
   ],
   "source": [
    "# Correlation heatmap of numerical features in the merged dataset\n",
    "plt.figure(figsize=(10, 8))\n",
    "\n",
    "# Select numerical columns for correlation analysis\n",
    "numerical_cols = merged_df.select_dtypes(include=['int64', 'float64']).columns\n",
    "\n",
    "#  correlation matrix\n",
    "corr_matrix = merged_df[numerical_cols].corr()\n",
    "\n",
    "# Plot heatmap\n",
    "sns.heatmap(corr_matrix, annot=True, cmap='viridis', fmt='.2f')\n",
    "plt.title('Correlation Matrix of Numerical Features')\n",
    "plt.tight_layout()\n",
    "plt.show()\n"
   ]
  },
  {
   "cell_type": "markdown",
   "metadata": {},
   "source": [
    "### 1.8 Final Merged Dataset"
   ]
  },
  {
   "cell_type": "code",
   "execution_count": 47,
   "metadata": {},
   "outputs": [
    {
     "name": "stdout",
     "output_type": "stream",
     "text": [
      "Final merged dataset summary:\n"
     ]
    },
    {
     "data": {
      "text/html": [
       "<div>\n",
       "<style scoped>\n",
       "    .dataframe tbody tr th:only-of-type {\n",
       "        vertical-align: middle;\n",
       "    }\n",
       "\n",
       "    .dataframe tbody tr th {\n",
       "        vertical-align: top;\n",
       "    }\n",
       "\n",
       "    .dataframe thead th {\n",
       "        text-align: right;\n",
       "    }\n",
       "</style>\n",
       "<table border=\"1\" class=\"dataframe\">\n",
       "  <thead>\n",
       "    <tr style=\"text-align: right;\">\n",
       "      <th></th>\n",
       "      <th>count</th>\n",
       "      <th>unique</th>\n",
       "      <th>top</th>\n",
       "      <th>freq</th>\n",
       "      <th>mean</th>\n",
       "      <th>min</th>\n",
       "      <th>25%</th>\n",
       "      <th>50%</th>\n",
       "      <th>75%</th>\n",
       "      <th>max</th>\n",
       "      <th>std</th>\n",
       "    </tr>\n",
       "  </thead>\n",
       "  <tbody>\n",
       "    <tr>\n",
       "      <th>customer_id_new</th>\n",
       "      <td>61</td>\n",
       "      <td>61</td>\n",
       "      <td>A190</td>\n",
       "      <td>1</td>\n",
       "      <td>NaN</td>\n",
       "      <td>NaN</td>\n",
       "      <td>NaN</td>\n",
       "      <td>NaN</td>\n",
       "      <td>NaN</td>\n",
       "      <td>NaN</td>\n",
       "      <td>NaN</td>\n",
       "    </tr>\n",
       "    <tr>\n",
       "      <th>social_media_platform</th>\n",
       "      <td>61</td>\n",
       "      <td>5</td>\n",
       "      <td>Twitter</td>\n",
       "      <td>15</td>\n",
       "      <td>NaN</td>\n",
       "      <td>NaN</td>\n",
       "      <td>NaN</td>\n",
       "      <td>NaN</td>\n",
       "      <td>NaN</td>\n",
       "      <td>NaN</td>\n",
       "      <td>NaN</td>\n",
       "    </tr>\n",
       "    <tr>\n",
       "      <th>engagement_score</th>\n",
       "      <td>61.0</td>\n",
       "      <td>NaN</td>\n",
       "      <td>NaN</td>\n",
       "      <td>NaN</td>\n",
       "      <td>75.409836</td>\n",
       "      <td>50.0</td>\n",
       "      <td>63.0</td>\n",
       "      <td>77.0</td>\n",
       "      <td>90.0</td>\n",
       "      <td>99.0</td>\n",
       "      <td>15.847583</td>\n",
       "    </tr>\n",
       "    <tr>\n",
       "      <th>purchase_interest_score</th>\n",
       "      <td>61.0</td>\n",
       "      <td>NaN</td>\n",
       "      <td>NaN</td>\n",
       "      <td>NaN</td>\n",
       "      <td>3.059016</td>\n",
       "      <td>1.0</td>\n",
       "      <td>1.9</td>\n",
       "      <td>3.3</td>\n",
       "      <td>4.1</td>\n",
       "      <td>4.9</td>\n",
       "      <td>1.204903</td>\n",
       "    </tr>\n",
       "    <tr>\n",
       "      <th>review_sentiment</th>\n",
       "      <td>61</td>\n",
       "      <td>3</td>\n",
       "      <td>Positive</td>\n",
       "      <td>25</td>\n",
       "      <td>NaN</td>\n",
       "      <td>NaN</td>\n",
       "      <td>NaN</td>\n",
       "      <td>NaN</td>\n",
       "      <td>NaN</td>\n",
       "      <td>NaN</td>\n",
       "      <td>NaN</td>\n",
       "    </tr>\n",
       "    <tr>\n",
       "      <th>customer_id_legacy</th>\n",
       "      <td>61.0</td>\n",
       "      <td>NaN</td>\n",
       "      <td>NaN</td>\n",
       "      <td>NaN</td>\n",
       "      <td>148.803279</td>\n",
       "      <td>100.0</td>\n",
       "      <td>125.0</td>\n",
       "      <td>147.0</td>\n",
       "      <td>179.0</td>\n",
       "      <td>199.0</td>\n",
       "      <td>30.241153</td>\n",
       "    </tr>\n",
       "    <tr>\n",
       "      <th>transaction_id</th>\n",
       "      <td>61.0</td>\n",
       "      <td>NaN</td>\n",
       "      <td>NaN</td>\n",
       "      <td>NaN</td>\n",
       "      <td>1091.163934</td>\n",
       "      <td>1001.0</td>\n",
       "      <td>1060.0</td>\n",
       "      <td>1098.0</td>\n",
       "      <td>1130.0</td>\n",
       "      <td>1150.0</td>\n",
       "      <td>44.266308</td>\n",
       "    </tr>\n",
       "    <tr>\n",
       "      <th>purchase_amount</th>\n",
       "      <td>61.0</td>\n",
       "      <td>NaN</td>\n",
       "      <td>NaN</td>\n",
       "      <td>NaN</td>\n",
       "      <td>284.95082</td>\n",
       "      <td>64.0</td>\n",
       "      <td>178.0</td>\n",
       "      <td>280.0</td>\n",
       "      <td>392.0</td>\n",
       "      <td>495.0</td>\n",
       "      <td>121.034214</td>\n",
       "    </tr>\n",
       "    <tr>\n",
       "      <th>purchase_date</th>\n",
       "      <td>61</td>\n",
       "      <td>NaN</td>\n",
       "      <td>NaN</td>\n",
       "      <td>NaN</td>\n",
       "      <td>2024-03-31 03:56:03.934426112</td>\n",
       "      <td>2024-01-01 00:00:00</td>\n",
       "      <td>2024-02-29 00:00:00</td>\n",
       "      <td>2024-04-07 00:00:00</td>\n",
       "      <td>2024-05-09 00:00:00</td>\n",
       "      <td>2024-05-29 00:00:00</td>\n",
       "      <td>NaN</td>\n",
       "    </tr>\n",
       "    <tr>\n",
       "      <th>product_category</th>\n",
       "      <td>61</td>\n",
       "      <td>5</td>\n",
       "      <td>Sports</td>\n",
       "      <td>16</td>\n",
       "      <td>NaN</td>\n",
       "      <td>NaN</td>\n",
       "      <td>NaN</td>\n",
       "      <td>NaN</td>\n",
       "      <td>NaN</td>\n",
       "      <td>NaN</td>\n",
       "      <td>NaN</td>\n",
       "    </tr>\n",
       "    <tr>\n",
       "      <th>customer_rating</th>\n",
       "      <td>61.0</td>\n",
       "      <td>NaN</td>\n",
       "      <td>NaN</td>\n",
       "      <td>NaN</td>\n",
       "      <td>3.091803</td>\n",
       "      <td>1.0</td>\n",
       "      <td>2.1</td>\n",
       "      <td>3.0</td>\n",
       "      <td>4.3</td>\n",
       "      <td>5.0</td>\n",
       "      <td>1.282224</td>\n",
       "    </tr>\n",
       "    <tr>\n",
       "      <th>purchase_day</th>\n",
       "      <td>61.0</td>\n",
       "      <td>NaN</td>\n",
       "      <td>NaN</td>\n",
       "      <td>NaN</td>\n",
       "      <td>15.229508</td>\n",
       "      <td>1.0</td>\n",
       "      <td>8.0</td>\n",
       "      <td>15.0</td>\n",
       "      <td>23.0</td>\n",
       "      <td>30.0</td>\n",
       "      <td>8.685991</td>\n",
       "    </tr>\n",
       "    <tr>\n",
       "      <th>purchase_month</th>\n",
       "      <td>61.0</td>\n",
       "      <td>NaN</td>\n",
       "      <td>NaN</td>\n",
       "      <td>NaN</td>\n",
       "      <td>3.508197</td>\n",
       "      <td>1.0</td>\n",
       "      <td>2.0</td>\n",
       "      <td>4.0</td>\n",
       "      <td>5.0</td>\n",
       "      <td>5.0</td>\n",
       "      <td>1.421536</td>\n",
       "    </tr>\n",
       "    <tr>\n",
       "      <th>purchase_weekday</th>\n",
       "      <td>61.0</td>\n",
       "      <td>NaN</td>\n",
       "      <td>NaN</td>\n",
       "      <td>NaN</td>\n",
       "      <td>3.180328</td>\n",
       "      <td>0.0</td>\n",
       "      <td>1.0</td>\n",
       "      <td>3.0</td>\n",
       "      <td>5.0</td>\n",
       "      <td>6.0</td>\n",
       "      <td>2.069688</td>\n",
       "    </tr>\n",
       "    <tr>\n",
       "      <th>high_engagement</th>\n",
       "      <td>61.0</td>\n",
       "      <td>NaN</td>\n",
       "      <td>NaN</td>\n",
       "      <td>NaN</td>\n",
       "      <td>0.393443</td>\n",
       "      <td>0.0</td>\n",
       "      <td>0.0</td>\n",
       "      <td>0.0</td>\n",
       "      <td>1.0</td>\n",
       "      <td>1.0</td>\n",
       "      <td>0.492568</td>\n",
       "    </tr>\n",
       "    <tr>\n",
       "      <th>high_purchase_interest</th>\n",
       "      <td>61.0</td>\n",
       "      <td>NaN</td>\n",
       "      <td>NaN</td>\n",
       "      <td>NaN</td>\n",
       "      <td>0.52459</td>\n",
       "      <td>0.0</td>\n",
       "      <td>0.0</td>\n",
       "      <td>1.0</td>\n",
       "      <td>1.0</td>\n",
       "      <td>1.0</td>\n",
       "      <td>0.503539</td>\n",
       "    </tr>\n",
       "    <tr>\n",
       "      <th>social_media_platform_encoded</th>\n",
       "      <td>61.0</td>\n",
       "      <td>NaN</td>\n",
       "      <td>NaN</td>\n",
       "      <td>NaN</td>\n",
       "      <td>2.180328</td>\n",
       "      <td>0.0</td>\n",
       "      <td>1.0</td>\n",
       "      <td>2.0</td>\n",
       "      <td>3.0</td>\n",
       "      <td>4.0</td>\n",
       "      <td>1.44347</td>\n",
       "    </tr>\n",
       "    <tr>\n",
       "      <th>review_sentiment_encoded</th>\n",
       "      <td>61.0</td>\n",
       "      <td>NaN</td>\n",
       "      <td>NaN</td>\n",
       "      <td>NaN</td>\n",
       "      <td>1.081967</td>\n",
       "      <td>0.0</td>\n",
       "      <td>0.0</td>\n",
       "      <td>1.0</td>\n",
       "      <td>2.0</td>\n",
       "      <td>2.0</td>\n",
       "      <td>0.862073</td>\n",
       "    </tr>\n",
       "    <tr>\n",
       "      <th>product_category_encoded</th>\n",
       "      <td>61.0</td>\n",
       "      <td>NaN</td>\n",
       "      <td>NaN</td>\n",
       "      <td>NaN</td>\n",
       "      <td>2.04918</td>\n",
       "      <td>0.0</td>\n",
       "      <td>1.0</td>\n",
       "      <td>2.0</td>\n",
       "      <td>4.0</td>\n",
       "      <td>4.0</td>\n",
       "      <td>1.454032</td>\n",
       "    </tr>\n",
       "    <tr>\n",
       "      <th>total_purchase_amount_x</th>\n",
       "      <td>61.0</td>\n",
       "      <td>NaN</td>\n",
       "      <td>NaN</td>\n",
       "      <td>NaN</td>\n",
       "      <td>284.95082</td>\n",
       "      <td>64.0</td>\n",
       "      <td>178.0</td>\n",
       "      <td>280.0</td>\n",
       "      <td>392.0</td>\n",
       "      <td>495.0</td>\n",
       "      <td>121.034214</td>\n",
       "    </tr>\n",
       "    <tr>\n",
       "      <th>total_purchase_amount_y</th>\n",
       "      <td>61.0</td>\n",
       "      <td>NaN</td>\n",
       "      <td>NaN</td>\n",
       "      <td>NaN</td>\n",
       "      <td>284.95082</td>\n",
       "      <td>64.0</td>\n",
       "      <td>178.0</td>\n",
       "      <td>280.0</td>\n",
       "      <td>392.0</td>\n",
       "      <td>495.0</td>\n",
       "      <td>121.034214</td>\n",
       "    </tr>\n",
       "  </tbody>\n",
       "</table>\n",
       "</div>"
      ],
      "text/plain": [
       "                              count unique       top freq                           mean                  min                  25%                  50%                  75%                  max         std\n",
       "customer_id_new                  61     61      A190    1                            NaN                  NaN                  NaN                  NaN                  NaN                  NaN         NaN\n",
       "social_media_platform            61      5   Twitter   15                            NaN                  NaN                  NaN                  NaN                  NaN                  NaN         NaN\n",
       "engagement_score               61.0    NaN       NaN  NaN                      75.409836                 50.0                 63.0                 77.0                 90.0                 99.0   15.847583\n",
       "purchase_interest_score        61.0    NaN       NaN  NaN                       3.059016                  1.0                  1.9                  3.3                  4.1                  4.9    1.204903\n",
       "review_sentiment                 61      3  Positive   25                            NaN                  NaN                  NaN                  NaN                  NaN                  NaN         NaN\n",
       "customer_id_legacy             61.0    NaN       NaN  NaN                     148.803279                100.0                125.0                147.0                179.0                199.0   30.241153\n",
       "transaction_id                 61.0    NaN       NaN  NaN                    1091.163934               1001.0               1060.0               1098.0               1130.0               1150.0   44.266308\n",
       "purchase_amount                61.0    NaN       NaN  NaN                      284.95082                 64.0                178.0                280.0                392.0                495.0  121.034214\n",
       "purchase_date                    61    NaN       NaN  NaN  2024-03-31 03:56:03.934426112  2024-01-01 00:00:00  2024-02-29 00:00:00  2024-04-07 00:00:00  2024-05-09 00:00:00  2024-05-29 00:00:00         NaN\n",
       "product_category                 61      5    Sports   16                            NaN                  NaN                  NaN                  NaN                  NaN                  NaN         NaN\n",
       "customer_rating                61.0    NaN       NaN  NaN                       3.091803                  1.0                  2.1                  3.0                  4.3                  5.0    1.282224\n",
       "purchase_day                   61.0    NaN       NaN  NaN                      15.229508                  1.0                  8.0                 15.0                 23.0                 30.0    8.685991\n",
       "purchase_month                 61.0    NaN       NaN  NaN                       3.508197                  1.0                  2.0                  4.0                  5.0                  5.0    1.421536\n",
       "purchase_weekday               61.0    NaN       NaN  NaN                       3.180328                  0.0                  1.0                  3.0                  5.0                  6.0    2.069688\n",
       "high_engagement                61.0    NaN       NaN  NaN                       0.393443                  0.0                  0.0                  0.0                  1.0                  1.0    0.492568\n",
       "high_purchase_interest         61.0    NaN       NaN  NaN                        0.52459                  0.0                  0.0                  1.0                  1.0                  1.0    0.503539\n",
       "social_media_platform_encoded  61.0    NaN       NaN  NaN                       2.180328                  0.0                  1.0                  2.0                  3.0                  4.0     1.44347\n",
       "review_sentiment_encoded       61.0    NaN       NaN  NaN                       1.081967                  0.0                  0.0                  1.0                  2.0                  2.0    0.862073\n",
       "product_category_encoded       61.0    NaN       NaN  NaN                        2.04918                  0.0                  1.0                  2.0                  4.0                  4.0    1.454032\n",
       "total_purchase_amount_x        61.0    NaN       NaN  NaN                      284.95082                 64.0                178.0                280.0                392.0                495.0  121.034214\n",
       "total_purchase_amount_y        61.0    NaN       NaN  NaN                      284.95082                 64.0                178.0                280.0                392.0                495.0  121.034214"
      ]
     },
     "metadata": {},
     "output_type": "display_data"
    }
   ],
   "source": [
    "# Drop unnecessary columns from the merged dataset\n",
    "merged_df = merged_df.drop(['customer_id_num'], axis=1)\n",
    "\n",
    "# Display summary statistics of the cleaned merged dataset\n",
    "print(\"Final merged dataset summary:\")\n",
    "display(merged_df.describe(include='all').T)\n",
    "\n",
    "# Export the cleaned merged dataset to a CSV file\n",
    "merged_df.to_csv('merged_customer_data.csv', index=False)\n"
   ]
  }
 ],
 "metadata": {
  "kernelspec": {
   "display_name": "Python 3",
   "language": "python",
   "name": "python3"
  },
  "language_info": {
   "codemirror_mode": {
    "name": "ipython",
    "version": 3
   },
   "file_extension": ".py",
   "mimetype": "text/x-python",
   "name": "python",
   "nbconvert_exporter": "python",
   "pygments_lexer": "ipython3",
   "version": "3.12.4"
  }
 },
 "nbformat": 4,
 "nbformat_minor": 4
}
